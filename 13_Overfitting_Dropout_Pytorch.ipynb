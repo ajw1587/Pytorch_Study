{
  "nbformat": 4,
  "nbformat_minor": 0,
  "metadata": {
    "colab": {
      "name": "13_Overfitting_Dropout_Pytorch.ipynb",
      "provenance": [],
      "authorship_tag": "ABX9TyMuj8TX+tzTlq09+u3pU0Ur",
      "include_colab_link": true
    },
    "kernelspec": {
      "name": "python3",
      "display_name": "Python 3"
    },
    "language_info": {
      "name": "python"
    },
    "accelerator": "GPU"
  },
  "cells": [
    {
      "cell_type": "markdown",
      "metadata": {
        "id": "view-in-github",
        "colab_type": "text"
      },
      "source": [
        "<a href=\"https://colab.research.google.com/github/ajw1587/Pytorch_Study/blob/main/13_Overfitting_Dropout_Pytorch.ipynb\" target=\"_parent\"><img src=\"https://colab.research.google.com/assets/colab-badge.svg\" alt=\"Open In Colab\"/></a>"
      ]
    },
    {
      "cell_type": "code",
      "metadata": {
        "colab": {
          "base_uri": "https://localhost:8080/"
        },
        "id": "tWbg2RGH423J",
        "outputId": "9c928f6d-0036-45f1-c35a-96a0ea0987e6"
      },
      "source": [
        "!pip install torch\n",
        "!pip install torchvision"
      ],
      "execution_count": 41,
      "outputs": [
        {
          "output_type": "stream",
          "name": "stdout",
          "text": [
            "Requirement already satisfied: torch in /usr/local/lib/python3.7/dist-packages (1.9.0+cu102)\n",
            "Requirement already satisfied: typing-extensions in /usr/local/lib/python3.7/dist-packages (from torch) (3.7.4.3)\n",
            "Requirement already satisfied: torchvision in /usr/local/lib/python3.7/dist-packages (0.10.0+cu102)\n",
            "Requirement already satisfied: pillow>=5.3.0 in /usr/local/lib/python3.7/dist-packages (from torchvision) (7.1.2)\n",
            "Requirement already satisfied: numpy in /usr/local/lib/python3.7/dist-packages (from torchvision) (1.19.5)\n",
            "Requirement already satisfied: torch==1.9.0 in /usr/local/lib/python3.7/dist-packages (from torchvision) (1.9.0+cu102)\n",
            "Requirement already satisfied: typing-extensions in /usr/local/lib/python3.7/dist-packages (from torch==1.9.0->torchvision) (3.7.4.3)\n"
          ]
        }
      ]
    },
    {
      "cell_type": "code",
      "metadata": {
        "colab": {
          "base_uri": "https://localhost:8080/"
        },
        "id": "WWTkrjzc5PzU",
        "outputId": "c1445301-3b97-45be-cd3e-169a62338ef1"
      },
      "source": [
        "import torch\n",
        "import torch.nn as nn\n",
        "import torch.nn.functional as F\n",
        "import torch.optim as optim\n",
        "import torchvision\n",
        "import torchvision.datasets as dsets\n",
        "import torchvision.transforms as transforms\n",
        "\n",
        "dropout_prob = 0.5\n",
        "device = 'cuda' if torch.cuda.is_available() else 'cpu'\n",
        "print(device)"
      ],
      "execution_count": 42,
      "outputs": [
        {
          "output_type": "stream",
          "name": "stdout",
          "text": [
            "cuda\n"
          ]
        }
      ]
    },
    {
      "cell_type": "code",
      "metadata": {
        "colab": {
          "base_uri": "https://localhost:8080/"
        },
        "id": "UMnaPb075_rD",
        "outputId": "37e36b37-d3fc-4e33-cee1-19282c022e7b"
      },
      "source": [
        "train_dataset = dsets.MNIST(root = '../data/',\n",
        "                            train = True,\n",
        "                            transform = transforms.ToTensor(),\n",
        "                            download = True)\n",
        "test_dataset = dsets.MNIST(root = '../data/',\n",
        "                           train = False,\n",
        "                           transform = transforms.ToTensor(),\n",
        "                           download = True)\n",
        "\n",
        "print(type(train_dataset))\n",
        "print(train_dataset.data.shape)\n",
        "print(type(test_dataset))\n",
        "print(test_dataset.data.shape)"
      ],
      "execution_count": 43,
      "outputs": [
        {
          "output_type": "stream",
          "name": "stdout",
          "text": [
            "<class 'torchvision.datasets.mnist.MNIST'>\n",
            "torch.Size([60000, 28, 28])\n",
            "<class 'torchvision.datasets.mnist.MNIST'>\n",
            "torch.Size([10000, 28, 28])\n"
          ]
        }
      ]
    },
    {
      "cell_type": "code",
      "metadata": {
        "id": "Tjm7ddPg6_Dg"
      },
      "source": [
        "data_loader = torch.utils.data.DataLoader(train_dataset,\n",
        "                                          100,\n",
        "                                          shuffle = True,\n",
        "                                          drop_last = True)"
      ],
      "execution_count": 44,
      "outputs": []
    },
    {
      "cell_type": "code",
      "metadata": {
        "id": "grlGmdWL7RYS"
      },
      "source": [
        "# Model\n",
        "class MNIST_model(nn.Module):\n",
        "  def __init__(self):\n",
        "    super(MNIST_model, self).__init__()\n",
        "    self.linear1 = nn.Linear(28 * 28, 100)\n",
        "    self.linear2 = nn.Linear(100, 200)\n",
        "    self.linear3 = nn.Linear(200, 100)\n",
        "    self.linear4 = nn.Linear(100, 10)\n",
        "\n",
        "    self.relu = nn.ReLU()\n",
        "    self.dropout = nn.Dropout(dropout_prob)\n",
        "\n",
        "    torch.nn.init.xavier_uniform_(self.linear1.weight)\n",
        "    torch.nn.init.xavier_uniform_(self.linear2.weight)\n",
        "    torch.nn.init.xavier_uniform_(self.linear3.weight)\n",
        "    torch.nn.init.xavier_uniform_(self.linear4.weight)\n",
        "\n",
        "  def forward(self, x):\n",
        "    x = self.linear1(x)\n",
        "    x = self.relu(x)\n",
        "    x = self.dropout(x)\n",
        "    \n",
        "    x = self.linear2(x)\n",
        "    x = self.relu(x)\n",
        "    x = self.dropout(x)\n",
        "\n",
        "    x = self.linear3(x)\n",
        "    x = self.relu(x)\n",
        "    x = self.dropout(x)\n",
        "\n",
        "    y = self.linear4(x)\n",
        "\n",
        "    return y"
      ],
      "execution_count": 45,
      "outputs": []
    },
    {
      "cell_type": "code",
      "metadata": {
        "id": "Gzx_rjf8Wlct"
      },
      "source": [
        "model = MNIST_model().to(device)\n",
        "\n",
        "criterion = nn.CrossEntropyLoss().to(device)\n",
        "optimizer = optim.Adam(model.parameters(), lr = 0.01)"
      ],
      "execution_count": 46,
      "outputs": []
    },
    {
      "cell_type": "code",
      "metadata": {
        "colab": {
          "base_uri": "https://localhost:8080/"
        },
        "id": "xorPuz8kW44K",
        "outputId": "341a0027-1163-4aba-ff6e-6600564fa3a6"
      },
      "source": [
        "total_batch = len(data_loader)\n",
        "print(total_batch)"
      ],
      "execution_count": 47,
      "outputs": [
        {
          "output_type": "stream",
          "name": "stdout",
          "text": [
            "600\n"
          ]
        }
      ]
    },
    {
      "cell_type": "code",
      "metadata": {
        "colab": {
          "base_uri": "https://localhost:8080/"
        },
        "id": "6CowV3OPXG03",
        "outputId": "3ee2bccc-9afa-4c01-9118-83aeffcecd8e"
      },
      "source": [
        "for epoch in range(5):\n",
        "  avg_cost = 0\n",
        "\n",
        "  for X,Y in data_loader:\n",
        "    x = X.view(-1, 28 * 28).to(device)\n",
        "    y = Y.to(device)\n",
        "\n",
        "    optimizer.zero_grad()\n",
        "    hypothesis = model(x)\n",
        "\n",
        "    cost = criterion(hypothesis, y)\n",
        "    cost.backward()\n",
        "    optimizer.step()\n",
        "\n",
        "    avg_cost += cost / total_batch\n",
        "  \n",
        "  print('[Epoch: {}] cost = {}'.format(epoch, avg_cost))\n",
        "print('Learning Finished')"
      ],
      "execution_count": 48,
      "outputs": [
        {
          "output_type": "stream",
          "name": "stdout",
          "text": [
            "[Epoch: 0] cost = 0.8720080852508545\n",
            "[Epoch: 1] cost = 0.7383248209953308\n",
            "[Epoch: 2] cost = 0.7127805948257446\n",
            "[Epoch: 3] cost = 0.687138020992279\n",
            "[Epoch: 4] cost = 0.697748064994812\n",
            "Learning Finished\n"
          ]
        }
      ]
    }
  ]
}