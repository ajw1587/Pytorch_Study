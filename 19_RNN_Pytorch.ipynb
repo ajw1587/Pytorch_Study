{
  "nbformat": 4,
  "nbformat_minor": 0,
  "metadata": {
    "colab": {
      "name": "19_RNN_Pytorch.ipynb",
      "provenance": [],
      "authorship_tag": "ABX9TyNu3DWEGNptx3pSUQJsOBUc",
      "include_colab_link": true
    },
    "kernelspec": {
      "name": "python3",
      "display_name": "Python 3"
    },
    "language_info": {
      "name": "python"
    },
    "accelerator": "GPU"
  },
  "cells": [
    {
      "cell_type": "markdown",
      "metadata": {
        "id": "view-in-github",
        "colab_type": "text"
      },
      "source": [
        "<a href=\"https://colab.research.google.com/github/ajw1587/Pytorch_Study/blob/main/19_RNN_Pytorch.ipynb\" target=\"_parent\"><img src=\"https://colab.research.google.com/assets/colab-badge.svg\" alt=\"Open In Colab\"/></a>"
      ]
    },
    {
      "cell_type": "code",
      "metadata": {
        "colab": {
          "base_uri": "https://localhost:8080/"
        },
        "id": "xgotJvelEjeZ",
        "outputId": "2e7a04e7-7962-410f-8670-1296ef7a279d"
      },
      "source": [
        "!pip install torch\n",
        "!pip install torchvision"
      ],
      "execution_count": 1,
      "outputs": [
        {
          "output_type": "stream",
          "name": "stdout",
          "text": [
            "Requirement already satisfied: torch in /usr/local/lib/python3.7/dist-packages (1.9.0+cu102)\n",
            "Requirement already satisfied: typing-extensions in /usr/local/lib/python3.7/dist-packages (from torch) (3.7.4.3)\n",
            "Requirement already satisfied: torchvision in /usr/local/lib/python3.7/dist-packages (0.10.0+cu102)\n",
            "Requirement already satisfied: pillow>=5.3.0 in /usr/local/lib/python3.7/dist-packages (from torchvision) (7.1.2)\n",
            "Requirement already satisfied: numpy in /usr/local/lib/python3.7/dist-packages (from torchvision) (1.19.5)\n",
            "Requirement already satisfied: torch==1.9.0 in /usr/local/lib/python3.7/dist-packages (from torchvision) (1.9.0+cu102)\n",
            "Requirement already satisfied: typing-extensions in /usr/local/lib/python3.7/dist-packages (from torch==1.9.0->torchvision) (3.7.4.3)\n"
          ]
        }
      ]
    },
    {
      "cell_type": "code",
      "metadata": {
        "colab": {
          "base_uri": "https://localhost:8080/"
        },
        "id": "8P-ZauymEx2F",
        "outputId": "9397c06c-b41e-4602-f935-628b4363a35a"
      },
      "source": [
        "import torch\n",
        "import numpy as np\n",
        "\n",
        "input_size = 4\n",
        "hidden_size = 2\n",
        "\n",
        "# 1-hot encoding\n",
        "h = [1, 0, 0, 0]\n",
        "e = [0, 1, 0, 0]\n",
        "l = [0, 0, 1, 0]\n",
        "o = [0, 0, 0, 1]\n",
        "input_data_np = np.array([[h, e, l, l, o],\n",
        "                          [e, o, l, l, l],\n",
        "                          [l, l, e, e, l]], dtype = np.float32)\n",
        "\n",
        "# transform as torch tensor\n",
        "input_data = torch.Tensor(input_data_np)\n",
        "\n",
        "rnn = torch.nn.RNN(input_size, hidden_size)\n",
        "\n",
        "outputs, _status = rnn(input_data)\n",
        "\n",
        "outputs"
      ],
      "execution_count": 3,
      "outputs": [
        {
          "output_type": "execute_result",
          "data": {
            "text/plain": [
              "tensor([[[-0.7937,  0.5305],\n",
              "         [-0.7215,  0.8586],\n",
              "         [ 0.1787,  0.4756],\n",
              "         [ 0.1787,  0.4756],\n",
              "         [ 0.0462,  0.7059]],\n",
              "\n",
              "        [[-0.5425,  0.9195],\n",
              "         [ 0.4356,  0.8602],\n",
              "         [ 0.3290,  0.5903],\n",
              "         [ 0.3290,  0.5903],\n",
              "         [ 0.4194,  0.6540]],\n",
              "\n",
              "        [[ 0.5388,  0.7326],\n",
              "         [ 0.4285,  0.6611],\n",
              "         [-0.6195,  0.9005],\n",
              "         [-0.6195,  0.9005],\n",
              "         [ 0.3632,  0.6155]]], grad_fn=<StackBackward>)"
            ]
          },
          "metadata": {},
          "execution_count": 3
        }
      ]
    }
  ]
}