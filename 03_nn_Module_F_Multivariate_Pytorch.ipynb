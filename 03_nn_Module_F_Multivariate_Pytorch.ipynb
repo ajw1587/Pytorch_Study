{
  "nbformat": 4,
  "nbformat_minor": 0,
  "metadata": {
    "colab": {
      "name": "03_nn.Module_F_Multivariate_Pytorch.ipynb",
      "provenance": [],
      "authorship_tag": "ABX9TyPYamE16cnboij1pFktWKxz",
      "include_colab_link": true
    },
    "kernelspec": {
      "name": "python3",
      "display_name": "Python 3"
    },
    "language_info": {
      "name": "python"
    },
    "accelerator": "GPU"
  },
  "cells": [
    {
      "cell_type": "markdown",
      "metadata": {
        "id": "view-in-github",
        "colab_type": "text"
      },
      "source": [
        "<a href=\"https://colab.research.google.com/github/ajw1587/Pytorch_Study/blob/main/03_nn_Module_F_Multivariate_Pytorch.ipynb\" target=\"_parent\"><img src=\"https://colab.research.google.com/assets/colab-badge.svg\" alt=\"Open In Colab\"/></a>"
      ]
    },
    {
      "cell_type": "code",
      "metadata": {
        "colab": {
          "base_uri": "https://localhost:8080/"
        },
        "id": "HWzE-dXc0F5S",
        "outputId": "033d9fcf-a599-49d8-f4fe-9a698597b7c5"
      },
      "source": [
        "!pip3 install torch\n",
        "!pip3 install torchvision"
      ],
      "execution_count": 1,
      "outputs": [
        {
          "output_type": "stream",
          "text": [
            "Requirement already satisfied: torch in /usr/local/lib/python3.7/dist-packages (1.9.0+cu102)\n",
            "Requirement already satisfied: typing-extensions in /usr/local/lib/python3.7/dist-packages (from torch) (3.7.4.3)\n",
            "Requirement already satisfied: torchvision in /usr/local/lib/python3.7/dist-packages (0.10.0+cu102)\n",
            "Requirement already satisfied: pillow>=5.3.0 in /usr/local/lib/python3.7/dist-packages (from torchvision) (7.1.2)\n",
            "Requirement already satisfied: torch==1.9.0 in /usr/local/lib/python3.7/dist-packages (from torchvision) (1.9.0+cu102)\n",
            "Requirement already satisfied: numpy in /usr/local/lib/python3.7/dist-packages (from torchvision) (1.19.5)\n",
            "Requirement already satisfied: typing-extensions in /usr/local/lib/python3.7/dist-packages (from torch==1.9.0->torchvision) (3.7.4.3)\n"
          ],
          "name": "stdout"
        }
      ]
    },
    {
      "cell_type": "code",
      "metadata": {
        "id": "JkAK45iK0STz"
      },
      "source": [
        "import torch\n",
        "import torchvision\n",
        "import torch.nn as nn\n",
        "import torch.nn.functional as F\n",
        "\n",
        "# Model\n",
        "class MultivariateModel(nn.Module):\n",
        "  def __init__(self):\n",
        "    super().__init__()\n",
        "    self.linear = nn.Linear(3, 1)\n",
        "  \n",
        "  def forward(self, x):\n",
        "    return self.linear(x)\n",
        "\n",
        "# Data\n",
        "x_train = torch.FloatTensor([[73, 80, 75],\n",
        "                             [93, 88, 93],\n",
        "                             [89, 91, 90],\n",
        "                             [96, 98, 100],\n",
        "                             [73, 66, 70]])\n",
        "y_train = torch.FloatTensor([[152], [185], [180], [196], [142]])"
      ],
      "execution_count": 5,
      "outputs": []
    },
    {
      "cell_type": "code",
      "metadata": {
        "id": "C75FvE8j00Fr"
      },
      "source": [
        "# Model\n",
        "model = MultivariateModel()"
      ],
      "execution_count": 6,
      "outputs": []
    },
    {
      "cell_type": "code",
      "metadata": {
        "id": "_z4cYwCZ1jtW"
      },
      "source": [
        "# Optimizer\n",
        "optimizer = torch.optim.SGD(model.parameters(), lr=1e-5)"
      ],
      "execution_count": 8,
      "outputs": []
    },
    {
      "cell_type": "code",
      "metadata": {
        "colab": {
          "base_uri": "https://localhost:8080/"
        },
        "id": "7zB0Q2A21LAd",
        "outputId": "d648c4dc-1368-498a-bc31-e7ae1448ccf0"
      },
      "source": [
        "nb_epochs = 20\n",
        "for epoch in range(nb_epochs + 1):\n",
        "\n",
        "  # H(x) 계산\n",
        "  hypothesis = model(x_train)\n",
        "\n",
        "  # Cost 계산\n",
        "  cost = F.mse_loss(hypothesis, y_train)\n",
        "\n",
        "  # Cost로 H(x) 개선\n",
        "  optimizer.zero_grad()\n",
        "  cost.backward()\n",
        "  optimizer.step()\n",
        "\n",
        "  print('Epoch {:4d}/{} Hypothesis: {}, Cost: {:.6f}'.format(\n",
        "        epoch,nb_epochs,hypothesis.squeeze().detach(),\n",
        "        cost.item()))"
      ],
      "execution_count": 12,
      "outputs": [
        {
          "output_type": "stream",
          "text": [
            "Epoch    0/20 Hypothesis: tensor([45.6196, 58.7722, 55.7358, 62.3309, 44.4763]), Cost: 14014.023438\n",
            "Epoch    1/20 Hypothesis: tensor([ 91.8491, 114.3367, 110.4845, 121.9508,  86.8581]), Cost: 4393.549805\n",
            "Epoch    2/20 Hypothesis: tensor([117.7314, 145.4453, 141.1362, 155.3297, 110.5861]), Cost: 1378.043091\n",
            "Epoch    3/20 Hypothesis: tensor([132.2219, 162.8618, 158.2970, 174.0173, 123.8705]), Cost: 432.841492\n",
            "Epoch    4/20 Hypothesis: tensor([140.3346, 172.6126, 167.9047, 184.4798, 131.3080]), Cost: 136.571198\n",
            "Epoch    5/20 Hypothesis: tensor([144.8766, 178.0718, 173.2837, 190.3374, 135.4721]), Cost: 43.706001\n",
            "Epoch    6/20 Hypothesis: tensor([147.4195, 181.1282, 176.2953, 193.6168, 137.8034]), Cost: 14.597705\n",
            "Epoch    7/20 Hypothesis: tensor([148.8432, 182.8393, 177.9813, 195.4528, 139.1086]), Cost: 5.473760\n",
            "Epoch    8/20 Hypothesis: tensor([149.6403, 183.7974, 178.9252, 196.4807, 139.8394]), Cost: 2.613849\n",
            "Epoch    9/20 Hypothesis: tensor([150.0865, 184.3337, 179.4537, 197.0561, 140.2485]), Cost: 1.717408\n",
            "Epoch   10/20 Hypothesis: tensor([150.3363, 184.6340, 179.7496, 197.3783, 140.4776]), Cost: 1.436367\n",
            "Epoch   11/20 Hypothesis: tensor([150.4762, 184.8021, 179.9153, 197.5586, 140.6059]), Cost: 1.348219\n",
            "Epoch   12/20 Hypothesis: tensor([150.5545, 184.8963, 180.0080, 197.6596, 140.6777]), Cost: 1.320571\n",
            "Epoch   13/20 Hypothesis: tensor([150.5984, 184.9489, 180.0600, 197.7161, 140.7180]), Cost: 1.311867\n",
            "Epoch   14/20 Hypothesis: tensor([150.6229, 184.9785, 180.0890, 197.7477, 140.7405]), Cost: 1.309078\n",
            "Epoch   15/20 Hypothesis: tensor([150.6367, 184.9950, 180.1053, 197.7654, 140.7531]), Cost: 1.308191\n",
            "Epoch   16/20 Hypothesis: tensor([150.6444, 185.0042, 180.1144, 197.7752, 140.7603]), Cost: 1.307852\n",
            "Epoch   17/20 Hypothesis: tensor([150.6487, 185.0094, 180.1195, 197.7808, 140.7642]), Cost: 1.307733\n",
            "Epoch   18/20 Hypothesis: tensor([150.6511, 185.0123, 180.1224, 197.7838, 140.7665]), Cost: 1.307638\n",
            "Epoch   19/20 Hypothesis: tensor([150.6525, 185.0139, 180.1240, 197.7855, 140.7678]), Cost: 1.307559\n",
            "Epoch   20/20 Hypothesis: tensor([150.6532, 185.0148, 180.1249, 197.7865, 140.7685]), Cost: 1.307520\n"
          ],
          "name": "stdout"
        }
      ]
    },
    {
      "cell_type": "code",
      "metadata": {
        "id": "P0QdpeIk2cvI"
      },
      "source": [
        ""
      ],
      "execution_count": null,
      "outputs": []
    }
  ]
}