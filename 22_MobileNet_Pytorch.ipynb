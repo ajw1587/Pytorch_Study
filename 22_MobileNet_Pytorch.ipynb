{
  "nbformat": 4,
  "nbformat_minor": 0,
  "metadata": {
    "colab": {
      "name": "22_MobileNet_Pytorch.ipynb",
      "provenance": [],
      "authorship_tag": "ABX9TyMDaExk/Du87yMqnfhrLtA/",
      "include_colab_link": true
    },
    "kernelspec": {
      "name": "python3",
      "display_name": "Python 3"
    },
    "language_info": {
      "name": "python"
    },
    "accelerator": "GPU"
  },
  "cells": [
    {
      "cell_type": "markdown",
      "metadata": {
        "id": "view-in-github",
        "colab_type": "text"
      },
      "source": [
        "<a href=\"https://colab.research.google.com/github/ajw1587/Pytorch_Study/blob/main/22_MobileNet_Pytorch.ipynb\" target=\"_parent\"><img src=\"https://colab.research.google.com/assets/colab-badge.svg\" alt=\"Open In Colab\"/></a>"
      ]
    },
    {
      "cell_type": "code",
      "metadata": {
        "colab": {
          "base_uri": "https://localhost:8080/"
        },
        "id": "_RQMh503cmuq",
        "outputId": "345db519-6932-4d1b-ca96-b71ade733006"
      },
      "source": [
        "!pip install torch\n",
        "!pip install torchvision"
      ],
      "execution_count": 2,
      "outputs": [
        {
          "output_type": "stream",
          "name": "stdout",
          "text": [
            "Requirement already satisfied: torch in /usr/local/lib/python3.7/dist-packages (1.9.0+cu111)\n",
            "Requirement already satisfied: typing-extensions in /usr/local/lib/python3.7/dist-packages (from torch) (3.7.4.3)\n",
            "Requirement already satisfied: torchvision in /usr/local/lib/python3.7/dist-packages (0.10.0+cu111)\n",
            "Requirement already satisfied: torch==1.9.0 in /usr/local/lib/python3.7/dist-packages (from torchvision) (1.9.0+cu111)\n",
            "Requirement already satisfied: pillow>=5.3.0 in /usr/local/lib/python3.7/dist-packages (from torchvision) (7.1.2)\n",
            "Requirement already satisfied: numpy in /usr/local/lib/python3.7/dist-packages (from torchvision) (1.19.5)\n",
            "Requirement already satisfied: typing-extensions in /usr/local/lib/python3.7/dist-packages (from torch==1.9.0->torchvision) (3.7.4.3)\n"
          ]
        }
      ]
    },
    {
      "cell_type": "code",
      "metadata": {
        "id": "mRh7s4excxG-"
      },
      "source": [
        "import torch\n",
        "import torch.nn as nn\n",
        "from torchsummary import summary\n",
        "from torch import optim"
      ],
      "execution_count": 3,
      "outputs": []
    },
    {
      "cell_type": "code",
      "metadata": {
        "id": "DMujUs9Jc6ge"
      },
      "source": [
        "# Depthwise Separable Convolution\n",
        "class Depthwise(nn.Module):\n",
        "    def __init__(self, in_channels, out_channels, stride=1):\n",
        "        super().__init__()\n",
        "\n",
        "        self.depthwise = nn.Sequential(\n",
        "            nn.Conv2d(in_channels, in_channels, 3, stride=stride, padding=1, groups=in_channels, bias=False),\n",
        "            nn.BatchNorm2d(in_channels),\n",
        "            nn.ReLU6(),\n",
        "        )\n",
        "\n",
        "        self.pointwise = nn.Sequential(\n",
        "            nn.Conv2d(in_channels, out_channels, 1, stride=1, padding=0, bias=False),\n",
        "            nn.BatchNorm2d(out_channels),\n",
        "            nn.ReLU6()\n",
        "        )\n",
        "    \n",
        "    def forward(self, x):\n",
        "        x = self.depthwise(x)\n",
        "        x = self.pointwise(x)\n",
        "        return x"
      ],
      "execution_count": 4,
      "outputs": []
    },
    {
      "cell_type": "code",
      "metadata": {
        "id": "D7PbhunjdBe1"
      },
      "source": [
        "# Basic Conv2d\n",
        "class BasicConv2d(nn.Module):\n",
        "    def __init__(self, in_channels, out_channels, kernel_size, **kwargs):\n",
        "        super().__init__()\n",
        "\n",
        "        self.conv = nn.Sequential(\n",
        "            nn.Conv2d(in_channels, out_channels, kernel_size, **kwargs),\n",
        "            nn.BatchNorm2d(out_channels),\n",
        "            nn.ReLU()\n",
        "        )\n",
        "\n",
        "    def forward(self, x):\n",
        "        x = self.conv(x)\n",
        "        return x"
      ],
      "execution_count": 5,
      "outputs": []
    },
    {
      "cell_type": "code",
      "metadata": {
        "id": "5o0-Q7H1dGmV"
      },
      "source": [
        "# MobileNetV1\n",
        "class MobileNet(nn.Module):\n",
        "    def __init__(self, width_multiplier, num_classes=10, init_weights=True):\n",
        "        super().__init__()\n",
        "        self.init_weights=init_weights\n",
        "        alpha = width_multiplier\n",
        "\n",
        "        self.conv1 = BasicConv2d(3, int(32*alpha), 3, stride=2, padding=1)\n",
        "        self.conv2 = Depthwise(int(32*alpha), int(64*alpha), stride=1)\n",
        "        # down sample\n",
        "        self.conv3 = nn.Sequential(\n",
        "            Depthwise(int(64*alpha), int(128*alpha), stride=2),\n",
        "            Depthwise(int(128*alpha), int(128*alpha), stride=1)\n",
        "        )\n",
        "        # down sample\n",
        "        self.conv4 = nn.Sequential(\n",
        "            Depthwise(int(128*alpha), int(256*alpha), stride=2),\n",
        "            Depthwise(int(256*alpha), int(256*alpha), stride=1)\n",
        "        )\n",
        "        # down sample\n",
        "        self.conv5 = nn.Sequential(\n",
        "            Depthwise(int(256*alpha), int(512*alpha), stride=2),\n",
        "            Depthwise(int(512*alpha), int(512*alpha), stride=1),\n",
        "            Depthwise(int(512*alpha), int(512*alpha), stride=1),\n",
        "            Depthwise(int(512*alpha), int(512*alpha), stride=1),\n",
        "            Depthwise(int(512*alpha), int(512*alpha), stride=1),\n",
        "            Depthwise(int(512*alpha), int(512*alpha), stride=1),\n",
        "        )\n",
        "        # down sample\n",
        "        self.conv6 = nn.Sequential(\n",
        "            Depthwise(int(512*alpha), int(1024*alpha), stride=2)\n",
        "        )\n",
        "        # down sample\n",
        "        self.conv7 = nn.Sequential(\n",
        "            Depthwise(int(1024*alpha), int(1024*alpha), stride=2)\n",
        "        )\n",
        "\n",
        "        self.avg_pool = nn.AdaptiveAvgPool2d((1,1))\n",
        "        self.linear = nn.Linear(int(1024*alpha), num_classes)\n",
        "\n",
        "        # weights initialization\n",
        "        if self.init_weights:\n",
        "            self._initialize_weights()\n",
        "\n",
        "    def forward(self, x):\n",
        "        x = self.conv1(x)\n",
        "        x = self.conv2(x)\n",
        "        x = self.conv3(x)\n",
        "        x = self.conv4(x)\n",
        "        x = self.conv5(x)\n",
        "        x = self.conv6(x)\n",
        "        x = self.conv7(x)\n",
        "        x = self.avg_pool(x)\n",
        "        x = x.view(x.size(0), -1)\n",
        "        x = self.linear(x)\n",
        "        return x\n",
        "\n",
        "    # weights initialization function\n",
        "    def _initialize_weights(self):\n",
        "        for m in self.modules():\n",
        "            if isinstance(m, nn.Conv2d):\n",
        "                nn.init.kaiming_normal_(m.weight, mode='fan_out', nonlinearity='relu')\n",
        "                if m.bias is not None:\n",
        "                    nn.init.constant_(m.bias, 0)\n",
        "            elif isinstance(m, nn.BatchNorm2d):\n",
        "                nn.init.constant_(m.weight, 1)\n",
        "                nn.init.constant_(m.bias, 0)\n",
        "            elif isinstance(m, nn.Linear):\n",
        "                nn.init.normal_(m.weight, 0, 0.01)\n",
        "                nn.init.constant_(m.bias, 0)\n",
        "\n",
        "def mobilenet(alpha=1, num_classes=10):\n",
        "    return MobileNet(alpha, num_classes)"
      ],
      "execution_count": 6,
      "outputs": []
    },
    {
      "cell_type": "code",
      "metadata": {
        "colab": {
          "base_uri": "https://localhost:8080/"
        },
        "id": "v9ovAECydG-i",
        "outputId": "35f0eeb3-ab5e-41d3-b0d1-c878b2e25f55"
      },
      "source": [
        "device = torch.device('cuda' if torch.cuda.is_available() else 'cpu')\n",
        "x = torch.randn((3, 3, 224, 224)).to(device)\n",
        "model = mobilenet(alpha=1).to(device)\n",
        "output = model(x)\n",
        "print('output size:', output.size())"
      ],
      "execution_count": 7,
      "outputs": [
        {
          "output_type": "stream",
          "name": "stdout",
          "text": [
            "output size: torch.Size([3, 10])\n"
          ]
        }
      ]
    },
    {
      "cell_type": "code",
      "metadata": {
        "colab": {
          "base_uri": "https://localhost:8080/"
        },
        "id": "ByYzK59WdKa7",
        "outputId": "506411ad-c530-4ef9-a72a-d23fc4dc9f08"
      },
      "source": [
        "summary(model, (3, 224, 224), device=device.type)"
      ],
      "execution_count": 8,
      "outputs": [
        {
          "output_type": "stream",
          "name": "stdout",
          "text": [
            "----------------------------------------------------------------\n",
            "        Layer (type)               Output Shape         Param #\n",
            "================================================================\n",
            "            Conv2d-1         [-1, 32, 112, 112]             896\n",
            "       BatchNorm2d-2         [-1, 32, 112, 112]              64\n",
            "              ReLU-3         [-1, 32, 112, 112]               0\n",
            "       BasicConv2d-4         [-1, 32, 112, 112]               0\n",
            "            Conv2d-5         [-1, 32, 112, 112]             288\n",
            "       BatchNorm2d-6         [-1, 32, 112, 112]              64\n",
            "             ReLU6-7         [-1, 32, 112, 112]               0\n",
            "            Conv2d-8         [-1, 64, 112, 112]           2,048\n",
            "       BatchNorm2d-9         [-1, 64, 112, 112]             128\n",
            "            ReLU6-10         [-1, 64, 112, 112]               0\n",
            "        Depthwise-11         [-1, 64, 112, 112]               0\n",
            "           Conv2d-12           [-1, 64, 56, 56]             576\n",
            "      BatchNorm2d-13           [-1, 64, 56, 56]             128\n",
            "            ReLU6-14           [-1, 64, 56, 56]               0\n",
            "           Conv2d-15          [-1, 128, 56, 56]           8,192\n",
            "      BatchNorm2d-16          [-1, 128, 56, 56]             256\n",
            "            ReLU6-17          [-1, 128, 56, 56]               0\n",
            "        Depthwise-18          [-1, 128, 56, 56]               0\n",
            "           Conv2d-19          [-1, 128, 56, 56]           1,152\n",
            "      BatchNorm2d-20          [-1, 128, 56, 56]             256\n",
            "            ReLU6-21          [-1, 128, 56, 56]               0\n",
            "           Conv2d-22          [-1, 128, 56, 56]          16,384\n",
            "      BatchNorm2d-23          [-1, 128, 56, 56]             256\n",
            "            ReLU6-24          [-1, 128, 56, 56]               0\n",
            "        Depthwise-25          [-1, 128, 56, 56]               0\n",
            "           Conv2d-26          [-1, 128, 28, 28]           1,152\n",
            "      BatchNorm2d-27          [-1, 128, 28, 28]             256\n",
            "            ReLU6-28          [-1, 128, 28, 28]               0\n",
            "           Conv2d-29          [-1, 256, 28, 28]          32,768\n",
            "      BatchNorm2d-30          [-1, 256, 28, 28]             512\n",
            "            ReLU6-31          [-1, 256, 28, 28]               0\n",
            "        Depthwise-32          [-1, 256, 28, 28]               0\n",
            "           Conv2d-33          [-1, 256, 28, 28]           2,304\n",
            "      BatchNorm2d-34          [-1, 256, 28, 28]             512\n",
            "            ReLU6-35          [-1, 256, 28, 28]               0\n",
            "           Conv2d-36          [-1, 256, 28, 28]          65,536\n",
            "      BatchNorm2d-37          [-1, 256, 28, 28]             512\n",
            "            ReLU6-38          [-1, 256, 28, 28]               0\n",
            "        Depthwise-39          [-1, 256, 28, 28]               0\n",
            "           Conv2d-40          [-1, 256, 14, 14]           2,304\n",
            "      BatchNorm2d-41          [-1, 256, 14, 14]             512\n",
            "            ReLU6-42          [-1, 256, 14, 14]               0\n",
            "           Conv2d-43          [-1, 512, 14, 14]         131,072\n",
            "      BatchNorm2d-44          [-1, 512, 14, 14]           1,024\n",
            "            ReLU6-45          [-1, 512, 14, 14]               0\n",
            "        Depthwise-46          [-1, 512, 14, 14]               0\n",
            "           Conv2d-47          [-1, 512, 14, 14]           4,608\n",
            "      BatchNorm2d-48          [-1, 512, 14, 14]           1,024\n",
            "            ReLU6-49          [-1, 512, 14, 14]               0\n",
            "           Conv2d-50          [-1, 512, 14, 14]         262,144\n",
            "      BatchNorm2d-51          [-1, 512, 14, 14]           1,024\n",
            "            ReLU6-52          [-1, 512, 14, 14]               0\n",
            "        Depthwise-53          [-1, 512, 14, 14]               0\n",
            "           Conv2d-54          [-1, 512, 14, 14]           4,608\n",
            "      BatchNorm2d-55          [-1, 512, 14, 14]           1,024\n",
            "            ReLU6-56          [-1, 512, 14, 14]               0\n",
            "           Conv2d-57          [-1, 512, 14, 14]         262,144\n",
            "      BatchNorm2d-58          [-1, 512, 14, 14]           1,024\n",
            "            ReLU6-59          [-1, 512, 14, 14]               0\n",
            "        Depthwise-60          [-1, 512, 14, 14]               0\n",
            "           Conv2d-61          [-1, 512, 14, 14]           4,608\n",
            "      BatchNorm2d-62          [-1, 512, 14, 14]           1,024\n",
            "            ReLU6-63          [-1, 512, 14, 14]               0\n",
            "           Conv2d-64          [-1, 512, 14, 14]         262,144\n",
            "      BatchNorm2d-65          [-1, 512, 14, 14]           1,024\n",
            "            ReLU6-66          [-1, 512, 14, 14]               0\n",
            "        Depthwise-67          [-1, 512, 14, 14]               0\n",
            "           Conv2d-68          [-1, 512, 14, 14]           4,608\n",
            "      BatchNorm2d-69          [-1, 512, 14, 14]           1,024\n",
            "            ReLU6-70          [-1, 512, 14, 14]               0\n",
            "           Conv2d-71          [-1, 512, 14, 14]         262,144\n",
            "      BatchNorm2d-72          [-1, 512, 14, 14]           1,024\n",
            "            ReLU6-73          [-1, 512, 14, 14]               0\n",
            "        Depthwise-74          [-1, 512, 14, 14]               0\n",
            "           Conv2d-75          [-1, 512, 14, 14]           4,608\n",
            "      BatchNorm2d-76          [-1, 512, 14, 14]           1,024\n",
            "            ReLU6-77          [-1, 512, 14, 14]               0\n",
            "           Conv2d-78          [-1, 512, 14, 14]         262,144\n",
            "      BatchNorm2d-79          [-1, 512, 14, 14]           1,024\n",
            "            ReLU6-80          [-1, 512, 14, 14]               0\n",
            "        Depthwise-81          [-1, 512, 14, 14]               0\n",
            "           Conv2d-82            [-1, 512, 7, 7]           4,608\n",
            "      BatchNorm2d-83            [-1, 512, 7, 7]           1,024\n",
            "            ReLU6-84            [-1, 512, 7, 7]               0\n",
            "           Conv2d-85           [-1, 1024, 7, 7]         524,288\n",
            "      BatchNorm2d-86           [-1, 1024, 7, 7]           2,048\n",
            "            ReLU6-87           [-1, 1024, 7, 7]               0\n",
            "        Depthwise-88           [-1, 1024, 7, 7]               0\n",
            "           Conv2d-89           [-1, 1024, 4, 4]           9,216\n",
            "      BatchNorm2d-90           [-1, 1024, 4, 4]           2,048\n",
            "            ReLU6-91           [-1, 1024, 4, 4]               0\n",
            "           Conv2d-92           [-1, 1024, 4, 4]       1,048,576\n",
            "      BatchNorm2d-93           [-1, 1024, 4, 4]           2,048\n",
            "            ReLU6-94           [-1, 1024, 4, 4]               0\n",
            "        Depthwise-95           [-1, 1024, 4, 4]               0\n",
            "AdaptiveAvgPool2d-96           [-1, 1024, 1, 1]               0\n",
            "           Linear-97                   [-1, 10]          10,250\n",
            "================================================================\n",
            "Total params: 3,217,258\n",
            "Trainable params: 3,217,258\n",
            "Non-trainable params: 0\n",
            "----------------------------------------------------------------\n",
            "Input size (MB): 0.57\n",
            "Forward/backward pass size (MB): 137.36\n",
            "Params size (MB): 12.27\n",
            "Estimated Total Size (MB): 150.20\n",
            "----------------------------------------------------------------\n"
          ]
        }
      ]
    }
  ]
}