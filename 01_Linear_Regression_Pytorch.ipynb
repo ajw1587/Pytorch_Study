{
  "nbformat": 4,
  "nbformat_minor": 0,
  "metadata": {
    "colab": {
      "name": "Pytorch_01.ipynb",
      "provenance": [],
      "authorship_tag": "ABX9TyPu5tPHBNiwG/jl4slkF1HU",
      "include_colab_link": true
    },
    "kernelspec": {
      "name": "python3",
      "display_name": "Python 3"
    },
    "language_info": {
      "name": "python"
    },
    "accelerator": "GPU"
  },
  "cells": [
    {
      "cell_type": "markdown",
      "metadata": {
        "id": "view-in-github",
        "colab_type": "text"
      },
      "source": [
        "<a href=\"https://colab.research.google.com/github/ajw1587/Pytorch_Study/blob/main/Pytorch_01.ipynb\" target=\"_parent\"><img src=\"https://colab.research.google.com/assets/colab-badge.svg\" alt=\"Open In Colab\"/></a>"
      ]
    },
    {
      "cell_type": "code",
      "metadata": {
        "id": "QfTQ1QKSQnd7",
        "colab": {
          "base_uri": "https://localhost:8080/"
        },
        "outputId": "58ec962e-2322-43da-a0e1-1508787ba849"
      },
      "source": [
        "!pip3 install torch\n",
        "!pip3 install torchvision"
      ],
      "execution_count": 2,
      "outputs": [
        {
          "output_type": "stream",
          "text": [
            "Requirement already satisfied: torch in /usr/local/lib/python3.7/dist-packages (1.9.0+cu102)\n",
            "Requirement already satisfied: typing-extensions in /usr/local/lib/python3.7/dist-packages (from torch) (3.7.4.3)\n",
            "Requirement already satisfied: torchvision in /usr/local/lib/python3.7/dist-packages (0.10.0+cu102)\n",
            "Requirement already satisfied: torch==1.9.0 in /usr/local/lib/python3.7/dist-packages (from torchvision) (1.9.0+cu102)\n",
            "Requirement already satisfied: pillow>=5.3.0 in /usr/local/lib/python3.7/dist-packages (from torchvision) (7.1.2)\n",
            "Requirement already satisfied: numpy in /usr/local/lib/python3.7/dist-packages (from torchvision) (1.19.5)\n",
            "Requirement already satisfied: typing-extensions in /usr/local/lib/python3.7/dist-packages (from torch==1.9.0->torchvision) (3.7.4.3)\n"
          ],
          "name": "stdout"
        }
      ]
    },
    {
      "cell_type": "code",
      "metadata": {
        "colab": {
          "base_uri": "https://localhost:8080/"
        },
        "id": "uLECLwu8eVh4",
        "outputId": "22eadbca-c5e4-487b-ec9d-d3ce3d3d05b9"
      },
      "source": [
        "import torch\n",
        "import torchvision\n",
        "\n",
        "x_train = torch.FloatTensor([[1], [2], [3]])\n",
        "y_train = torch.FloatTensor([[2], [4], [6]])\n",
        "print(x_train)\n",
        "print(x_train.shape)\n",
        "print(y_train)\n",
        "print(y_train.shape)"
      ],
      "execution_count": 3,
      "outputs": [
        {
          "output_type": "stream",
          "text": [
            "tensor([[1.],\n",
            "        [2.],\n",
            "        [3.]])\n",
            "torch.Size([3, 1])\n",
            "tensor([[2.],\n",
            "        [4.],\n",
            "        [6.]])\n",
            "torch.Size([3, 1])\n"
          ],
          "name": "stdout"
        }
      ]
    },
    {
      "cell_type": "code",
      "metadata": {
        "colab": {
          "base_uri": "https://localhost:8080/"
        },
        "id": "_Xv0xyrXikiP",
        "outputId": "7baaf548-5630-4a81-ace8-03058a49128d"
      },
      "source": [
        "W = torch.zeros(1, requires_grad=True)\n",
        "b = torch.zeros(1, requires_grad=True)\n",
        "print(W.shape)\n",
        "print(b.shape)\n",
        "hypothesis = x_train * W + b"
      ],
      "execution_count": 4,
      "outputs": [
        {
          "output_type": "stream",
          "text": [
            "torch.Size([1])\n",
            "torch.Size([1])\n"
          ],
          "name": "stdout"
        }
      ]
    },
    {
      "cell_type": "code",
      "metadata": {
        "colab": {
          "base_uri": "https://localhost:8080/"
        },
        "id": "9Q2QIis4l37V",
        "outputId": "f34400f7-c65c-4851-a900-096e16c9c65a"
      },
      "source": [
        "cost = torch.mean((hypothesis - y_train) ** 2)\n",
        "print(cost)"
      ],
      "execution_count": 5,
      "outputs": [
        {
          "output_type": "stream",
          "text": [
            "tensor(18.6667, grad_fn=<MeanBackward0>)\n"
          ],
          "name": "stdout"
        }
      ]
    },
    {
      "cell_type": "code",
      "metadata": {
        "id": "l13vPToroGfp"
      },
      "source": [
        "optimizer = torch.optim.SGD([W, b], lr = 0.01)"
      ],
      "execution_count": 6,
      "outputs": []
    },
    {
      "cell_type": "code",
      "metadata": {
        "id": "jwELAtSYo3Y_",
        "colab": {
          "base_uri": "https://localhost:8080/"
        },
        "outputId": "c7c64a22-32a4-4d69-9f56-9b534bc37888"
      },
      "source": [
        "nb_epochs = 10\n",
        "for epoch in range(1, nb_epochs + 1):\n",
        "  hypothesis = x_train * W + b\n",
        "  cost = torch.mean((hypothesis - y_train) ** 2)\n",
        "\n",
        "  print('Epoch {:4d}/{} W: {:.3f} b: {:.3f} Cost: {:.6f}'.format(\n",
        "      epoch, nb_epochs, W.item(), b.item(), cost.item()\n",
        "  ))\n",
        "  optimizer.zero_grad()\n",
        "  cost.backward()\n",
        "  print(cost)\n",
        "  optimizer.step()"
      ],
      "execution_count": 7,
      "outputs": [
        {
          "output_type": "stream",
          "text": [
            "Epoch    1/10 W: 0.000 b: 0.000 Cost: 18.666666\n",
            "tensor(18.6667, grad_fn=<MeanBackward0>)\n",
            "Epoch    2/10 W: 0.187 b: 0.080 Cost: 14.770963\n",
            "tensor(14.7710, grad_fn=<MeanBackward0>)\n",
            "Epoch    3/10 W: 0.353 b: 0.151 Cost: 11.691541\n",
            "tensor(11.6915, grad_fn=<MeanBackward0>)\n",
            "Epoch    4/10 W: 0.500 b: 0.214 Cost: 9.257346\n",
            "tensor(9.2573, grad_fn=<MeanBackward0>)\n",
            "Epoch    5/10 W: 0.632 b: 0.270 Cost: 7.333169\n",
            "tensor(7.3332, grad_fn=<MeanBackward0>)\n",
            "Epoch    6/10 W: 0.749 b: 0.319 Cost: 5.812135\n",
            "tensor(5.8121, grad_fn=<MeanBackward0>)\n",
            "Epoch    7/10 W: 0.853 b: 0.363 Cost: 4.609764\n",
            "tensor(4.6098, grad_fn=<MeanBackward0>)\n",
            "Epoch    8/10 W: 0.945 b: 0.401 Cost: 3.659278\n",
            "tensor(3.6593, grad_fn=<MeanBackward0>)\n",
            "Epoch    9/10 W: 1.028 b: 0.435 Cost: 2.907896\n",
            "tensor(2.9079, grad_fn=<MeanBackward0>)\n",
            "Epoch   10/10 W: 1.101 b: 0.466 Cost: 2.313895\n",
            "tensor(2.3139, grad_fn=<MeanBackward0>)\n"
          ],
          "name": "stdout"
        }
      ]
    }
  ]
}
