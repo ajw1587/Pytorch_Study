{
  "nbformat": 4,
  "nbformat_minor": 0,
  "metadata": {
    "colab": {
      "name": "10_XOR_Multi_Layer_Pytorch.ipynb",
      "provenance": [],
      "authorship_tag": "ABX9TyNPGJXSGf+cdsgCWwtI4zqv",
      "include_colab_link": true
    },
    "kernelspec": {
      "name": "python3",
      "display_name": "Python 3"
    },
    "language_info": {
      "name": "python"
    },
    "accelerator": "GPU"
  },
  "cells": [
    {
      "cell_type": "markdown",
      "metadata": {
        "id": "view-in-github",
        "colab_type": "text"
      },
      "source": [
        "<a href=\"https://colab.research.google.com/github/ajw1587/Pytorch_Study/blob/main/10_XOR_Multi_Layer_Pytorch.ipynb\" target=\"_parent\"><img src=\"https://colab.research.google.com/assets/colab-badge.svg\" alt=\"Open In Colab\"/></a>"
      ]
    },
    {
      "cell_type": "code",
      "metadata": {
        "colab": {
          "base_uri": "https://localhost:8080/"
        },
        "id": "Dhsd9kW37DEk",
        "outputId": "5f100093-5e1d-43ec-8a5a-365afa856779"
      },
      "source": [
        "!pip install torch\n",
        "!pip install torchvision"
      ],
      "execution_count": 10,
      "outputs": [
        {
          "output_type": "stream",
          "name": "stdout",
          "text": [
            "Requirement already satisfied: torch in /usr/local/lib/python3.7/dist-packages (1.9.0+cu102)\n",
            "Requirement already satisfied: typing-extensions in /usr/local/lib/python3.7/dist-packages (from torch) (3.7.4.3)\n",
            "Requirement already satisfied: torchvision in /usr/local/lib/python3.7/dist-packages (0.10.0+cu102)\n",
            "Requirement already satisfied: numpy in /usr/local/lib/python3.7/dist-packages (from torchvision) (1.19.5)\n",
            "Requirement already satisfied: torch==1.9.0 in /usr/local/lib/python3.7/dist-packages (from torchvision) (1.9.0+cu102)\n",
            "Requirement already satisfied: pillow>=5.3.0 in /usr/local/lib/python3.7/dist-packages (from torchvision) (7.1.2)\n",
            "Requirement already satisfied: typing-extensions in /usr/local/lib/python3.7/dist-packages (from torch==1.9.0->torchvision) (3.7.4.3)\n"
          ]
        }
      ]
    },
    {
      "cell_type": "code",
      "metadata": {
        "id": "EHYxGQFB7Hz7"
      },
      "source": [
        "import torch\n",
        "import torch.nn as nn"
      ],
      "execution_count": 11,
      "outputs": []
    },
    {
      "cell_type": "code",
      "metadata": {
        "id": "rAd5T1dX7cTb"
      },
      "source": [
        "device = 'cuda' if torch.cuda.is_available() else 'cpu'\n",
        "\n",
        "# for reproducibility\n",
        "torch.manual_seed(777)\n",
        "if device == 'cpu':\n",
        "  torch.cuda.manual_seed_all(777)"
      ],
      "execution_count": 12,
      "outputs": []
    },
    {
      "cell_type": "code",
      "metadata": {
        "id": "xCJAaYi48zoJ"
      },
      "source": [
        "X = torch.FloatTensor([[0, 0], [0, 1], [1, 0], [1, 1]]).to(device)\n",
        "Y = torch.FloatTensor([[0], [1], [1], [0]]).to(device)"
      ],
      "execution_count": 13,
      "outputs": []
    },
    {
      "cell_type": "code",
      "metadata": {
        "id": "AWYNlC3V9B2D"
      },
      "source": [
        "model = nn.Sequential(\n",
        "    nn.Linear(2, 10, bias = True),\n",
        "    nn.Sigmoid(),\n",
        "    nn.Linear(10, 10, bias = True),\n",
        "    nn.Sigmoid(),\n",
        "    nn.Linear(10, 10, bias = True),\n",
        "    nn.Sigmoid(),\n",
        "    nn.Linear(10, 1, bias = True),\n",
        "    nn.Sigmoid()\n",
        ").to(device)"
      ],
      "execution_count": 14,
      "outputs": []
    },
    {
      "cell_type": "code",
      "metadata": {
        "id": "YBH7Q7Yt9YKn"
      },
      "source": [
        "criterion = torch.nn.BCELoss().to(device)\n",
        "optimizer = optim.SGD(model.parameters(), lr = 1)"
      ],
      "execution_count": 15,
      "outputs": []
    },
    {
      "cell_type": "code",
      "metadata": {
        "colab": {
          "base_uri": "https://localhost:8080/"
        },
        "id": "_YfhoM249wfm",
        "outputId": "8a243001-8f78-41a9-9672-5cae204adfae"
      },
      "source": [
        "for epoch in range(10001):\n",
        "  optimizer.zero_grad()\n",
        "  \n",
        "  hypothesis = model(X)\n",
        "\n",
        "  # Cost Function\n",
        "  cost = criterion(hypothesis, Y)\n",
        "  cost.backward()\n",
        "  optimizer.step()\n",
        "\n",
        "  if epoch % 100 == 0:\n",
        "    print(epoch, cost.item())"
      ],
      "execution_count": 16,
      "outputs": [
        {
          "output_type": "stream",
          "name": "stdout",
          "text": [
            "0 0.6948983669281006\n",
            "100 0.6931558847427368\n",
            "200 0.6931535005569458\n",
            "300 0.6931514143943787\n",
            "400 0.6931492686271667\n",
            "500 0.6931473612785339\n",
            "600 0.6931453943252563\n",
            "700 0.6931434869766235\n",
            "800 0.6931415796279907\n",
            "900 0.6931397914886475\n",
            "1000 0.6931380033493042\n",
            "1100 0.6931361556053162\n",
            "1200 0.6931343078613281\n",
            "1300 0.6931324005126953\n",
            "1400 0.6931304931640625\n",
            "1500 0.6931284666061401\n",
            "1600 0.6931264400482178\n",
            "1700 0.6931242942810059\n",
            "1800 0.6931220293045044\n",
            "1900 0.6931196451187134\n",
            "2000 0.6931172609329224\n",
            "2100 0.6931145191192627\n",
            "2200 0.6931116580963135\n",
            "2300 0.6931084990501404\n",
            "2400 0.6931051015853882\n",
            "2500 0.6931014657020569\n",
            "2600 0.6930974721908569\n",
            "2700 0.6930930614471436\n",
            "2800 0.6930880546569824\n",
            "2900 0.6930825710296631\n",
            "3000 0.6930763721466064\n",
            "3100 0.693069338798523\n",
            "3200 0.6930611729621887\n",
            "3300 0.6930519342422485\n",
            "3400 0.6930411458015442\n",
            "3500 0.6930283904075623\n",
            "3600 0.6930133104324341\n",
            "3700 0.6929951310157776\n",
            "3800 0.6929729580879211\n",
            "3900 0.6929453015327454\n",
            "4000 0.6929103136062622\n",
            "4100 0.6928650140762329\n",
            "4200 0.6928046941757202\n",
            "4300 0.692721962928772\n",
            "4400 0.6926040649414062\n",
            "4500 0.6924278736114502\n",
            "4600 0.692147970199585\n",
            "4700 0.6916664838790894\n",
            "4800 0.6907395124435425\n",
            "4900 0.6886202096939087\n",
            "5000 0.6820817589759827\n",
            "5100 0.6472529768943787\n",
            "5200 0.4505062699317932\n",
            "5300 0.04177054390311241\n",
            "5400 0.009764276444911957\n",
            "5500 0.005042005330324173\n",
            "5600 0.0032991617918014526\n",
            "5700 0.0024174731224775314\n",
            "5800 0.0018923621391877532\n",
            "5900 0.0015466511249542236\n",
            "6000 0.0013030603295192122\n",
            "6100 0.00112288782838732\n",
            "6200 0.000984543701633811\n",
            "6300 0.0008751981658861041\n",
            "6400 0.0007867583190090954\n",
            "6500 0.0007138351211324334\n",
            "6600 0.0006527418736368418\n",
            "6700 0.0006008372874930501\n",
            "6800 0.0005562860169447958\n",
            "6900 0.0005175811238586903\n",
            "7000 0.00048370816512033343\n",
            "7100 0.00045386157580651343\n",
            "7200 0.0004272807273082435\n",
            "7300 0.0004035180900245905\n",
            "7400 0.00038220075657591224\n",
            "7500 0.0003628814301919192\n",
            "7600 0.0003453661338426173\n",
            "7700 0.00032940146047621965\n",
            "7800 0.0003147636307403445\n",
            "7900 0.0003013334353454411\n",
            "8000 0.0002889616880565882\n",
            "8100 0.0002775440807454288\n",
            "8200 0.0002669463574420661\n",
            "8300 0.0002570791111793369\n",
            "8400 0.0002479125396348536\n",
            "8500 0.0002393570903223008\n",
            "8600 0.00023130851332098246\n",
            "8700 0.00022379658184945583\n",
            "8800 0.00021671690046787262\n",
            "8900 0.00021003972506150603\n",
            "9000 0.00020376498287077993\n",
            "9100 0.00019787781639024615\n",
            "9200 0.00019225894357077777\n",
            "9300 0.00018695308244787157\n",
            "9400 0.00018190062837675214\n",
            "9500 0.00017714628484100103\n",
            "9600 0.0001726006157696247\n",
            "9700 0.00016827850777190179\n",
            "9800 0.00016416508879046887\n",
            "9900 0.00016024542856030166\n",
            "10000 0.00015648972475901246\n"
          ]
        }
      ]
    },
    {
      "cell_type": "code",
      "metadata": {
        "id": "C7oZAK7xC5YO",
        "outputId": "9b29babd-76f6-4533-af93-7f8149a43b73",
        "colab": {
          "base_uri": "https://localhost:8080/"
        }
      },
      "source": [
        "with torch.no_grad():\n",
        "    hypothesis = model(X)\n",
        "    predicted = (hypothesis > 0.5).float()\n",
        "    accuracy = (predicted == Y).float().mean()\n",
        "    print('모델의 출력값(Hypothesis): ', hypothesis.detach().cpu().numpy())\n",
        "    print('모델의 예측값(Predicted): ', predicted.detach().cpu().numpy())\n",
        "    print('실제값(Y): ', Y.cpu().numpy())\n",
        "    print('정확도(Accuracy): ', accuracy.item())"
      ],
      "execution_count": 17,
      "outputs": [
        {
          "output_type": "stream",
          "name": "stdout",
          "text": [
            "모델의 출력값(Hypothesis):  [[1.11680136e-04]\n",
            " [9.99828815e-01]\n",
            " [9.99842286e-01]\n",
            " [1.85289333e-04]]\n",
            "모델의 예측값(Predicted):  [[0.]\n",
            " [1.]\n",
            " [1.]\n",
            " [0.]]\n",
            "실제값(Y):  [[0.]\n",
            " [1.]\n",
            " [1.]\n",
            " [0.]]\n",
            "정확도(Accuracy):  1.0\n"
          ]
        }
      ]
    }
  ]
}