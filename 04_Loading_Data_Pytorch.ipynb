{
  "nbformat": 4,
  "nbformat_minor": 0,
  "metadata": {
    "colab": {
      "name": "04_Loading_Data_Pytorch.ipynb",
      "provenance": [],
      "collapsed_sections": [],
      "authorship_tag": "ABX9TyPO4JaClZw+vnI0qVZDqd8Y",
      "include_colab_link": true
    },
    "kernelspec": {
      "name": "python3",
      "display_name": "Python 3"
    },
    "language_info": {
      "name": "python"
    }
  },
  "cells": [
    {
      "cell_type": "markdown",
      "metadata": {
        "id": "view-in-github",
        "colab_type": "text"
      },
      "source": [
        "<a href=\"https://colab.research.google.com/github/ajw1587/Pytorch_Study/blob/main/04_Loading_Data_Pytorch.ipynb\" target=\"_parent\"><img src=\"https://colab.research.google.com/assets/colab-badge.svg\" alt=\"Open In Colab\"/></a>"
      ]
    },
    {
      "cell_type": "code",
      "metadata": {
        "colab": {
          "base_uri": "https://localhost:8080/"
        },
        "id": "I6q-2Zea5kLB",
        "outputId": "5b0d0cfa-ef40-4eb5-c17a-6aeffdf95a9c"
      },
      "source": [
        "!pip3 install torch\n",
        "!pip3 install torchvision"
      ],
      "execution_count": 13,
      "outputs": [
        {
          "output_type": "stream",
          "text": [
            "Requirement already satisfied: torch in /usr/local/lib/python3.7/dist-packages (1.9.0+cu102)\n",
            "Requirement already satisfied: typing-extensions in /usr/local/lib/python3.7/dist-packages (from torch) (3.7.4.3)\n",
            "Requirement already satisfied: torchvision in /usr/local/lib/python3.7/dist-packages (0.10.0+cu102)\n",
            "Requirement already satisfied: torch==1.9.0 in /usr/local/lib/python3.7/dist-packages (from torchvision) (1.9.0+cu102)\n",
            "Requirement already satisfied: pillow>=5.3.0 in /usr/local/lib/python3.7/dist-packages (from torchvision) (7.1.2)\n",
            "Requirement already satisfied: numpy in /usr/local/lib/python3.7/dist-packages (from torchvision) (1.19.5)\n",
            "Requirement already satisfied: typing-extensions in /usr/local/lib/python3.7/dist-packages (from torch==1.9.0->torchvision) (3.7.4.3)\n"
          ],
          "name": "stdout"
        }
      ]
    },
    {
      "cell_type": "code",
      "metadata": {
        "id": "joh_5qSv5soI"
      },
      "source": [
        "import torch\n",
        "import torchvision\n",
        "import torch.nn as nn\n",
        "import torch.nn.functional as F\n",
        "from torch.utils.data import Dataset\n",
        "\n",
        "class CustomDataset(Dataset):\n",
        "  def __init__(self):\n",
        "    self.x_data = [[73, 80, 75],\n",
        "                   [93, 88, 93],\n",
        "                   [89, 91, 90],\n",
        "                   [96, 98, 100],\n",
        "                   [73, 66, 70]]\n",
        "    self.y_data = [[152], [185], [180], [196], [142]]\n",
        "\n",
        "  def __len__(self):          # 이 데이터셋의 총 데이터 수\n",
        "    return len(self.x_data)\n",
        "\n",
        "  def __getitem__(self, idx): # 어떠한 인덱스 idx를 받았을 때, 그에 상응하는 데이터\n",
        "    x = torch.FloatTensor(self.x_data[idx])\n",
        "    y = torch.FloatTensor(self.y_data[idx])\n",
        "\n",
        "    return x, y"
      ],
      "execution_count": 14,
      "outputs": []
    },
    {
      "cell_type": "code",
      "metadata": {
        "id": "cVCtzZEEG8lM"
      },
      "source": [
        "# Model\n",
        "class MultivariateModel(nn.Module):\n",
        "  def __init__(self):\n",
        "    super().__init__()\n",
        "    self.linear = nn.Linear(3, 1)\n",
        "  \n",
        "  def forward(self, x):\n",
        "    return self.linear(x)"
      ],
      "execution_count": 15,
      "outputs": []
    },
    {
      "cell_type": "code",
      "metadata": {
        "id": "kpJVdiZZG_8i"
      },
      "source": [
        "model = MultivariateModel()"
      ],
      "execution_count": 16,
      "outputs": []
    },
    {
      "cell_type": "code",
      "metadata": {
        "id": "aOgvjYjfFi3p"
      },
      "source": [
        "dataset = CustomDataset()"
      ],
      "execution_count": 17,
      "outputs": []
    },
    {
      "cell_type": "code",
      "metadata": {
        "id": "9Enlqh6IFt3k"
      },
      "source": [
        "from torch.utils.data import DataLoader\n",
        "\n",
        "dataloader = DataLoader(\n",
        "    dataset,\n",
        "    batch_size = 2,     # minibatch의 크기, 통상적으로 2의 제곱수로 설정\n",
        "    shuffle = True      # 데이터셋 섞기\n",
        ")"
      ],
      "execution_count": 18,
      "outputs": []
    },
    {
      "cell_type": "code",
      "metadata": {
        "id": "5ZMP9QrNHLIW"
      },
      "source": [
        "# Optimizer\n",
        "optimizer = torch.optim.SGD(model.parameters(), lr=1e-5)"
      ],
      "execution_count": 19,
      "outputs": []
    },
    {
      "cell_type": "code",
      "metadata": {
        "colab": {
          "base_uri": "https://localhost:8080/"
        },
        "id": "Ub6LXNFgGIXl",
        "outputId": "b373f9ee-636a-4855-f0e4-02be50fd9f2e"
      },
      "source": [
        "nb_epochs = 20\n",
        "for epoch in range(nb_epochs + 1):\n",
        "  for batch_idx, samples in enumerate(dataloader):\n",
        "    x_train, y_train = samples\n",
        "\n",
        "    # H(x) 계산\n",
        "    prediction = model(x_train)\n",
        "\n",
        "    # Cost 계산\n",
        "    cost = F.mse_loss(prediction, y_train)\n",
        "\n",
        "    # Cost로 H(x) 개선\n",
        "    optimizer.zero_grad()\n",
        "    cost.backward()\n",
        "    optimizer.step()\n",
        "\n",
        "    print('Epoch {:4d}/{} Prediction: {}, Cost: {:.6f}'.format(\n",
        "           epoch,nb_epochs,prediction.squeeze().detach(),\n",
        "           cost.item()))"
      ],
      "execution_count": 21,
      "outputs": [
        {
          "output_type": "stream",
          "text": [
            "Epoch    0/20 Prediction: tensor([ 85.3934, 113.7533]), Cost: 3796.462891\n",
            "Epoch    0/20 Prediction: tensor([120.4576, 152.2630]), Cost: 1453.923828\n",
            "Epoch    0/20 Prediction: 158.29156494140625, Cost: 713.340515\n",
            "Epoch    1/20 Prediction: tensor([171.7172, 171.6687]), Cost: 123.163849\n",
            "Epoch    1/20 Prediction: tensor([192.0336, 151.2938]), Cost: 8.115408\n",
            "Epoch    1/20 Prediction: 135.30166625976562, Cost: 44.867676\n",
            "Epoch    2/20 Prediction: tensor([196.0778, 154.4275]), Cost: 2.949420\n",
            "Epoch    2/20 Prediction: tensor([136.8548, 180.2954]), Cost: 24.303368\n",
            "Epoch    2/20 Prediction: 182.33934020996094, Cost: 5.472513\n",
            "Epoch    3/20 Prediction: tensor([196.5917, 181.2023]), Cost: 0.897785\n",
            "Epoch    3/20 Prediction: tensor([137.2772, 154.4442]), Cost: 14.139403\n",
            "Epoch    3/20 Prediction: 181.2417449951172, Cost: 14.124480\n",
            "Epoch    4/20 Prediction: tensor([198.5422, 182.9931]), Cost: 7.710907\n",
            "Epoch    4/20 Prediction: tensor([137.9313, 181.7035]), Cost: 13.710850\n",
            "Epoch    4/20 Prediction: 156.4813690185547, Cost: 20.082668\n",
            "Epoch    5/20 Prediction: tensor([181.4418, 154.9259]), Cost: 10.610902\n",
            "Epoch    5/20 Prediction: tensor([197.0343, 181.6077]), Cost: 1.827192\n",
            "Epoch    5/20 Prediction: 137.43490600585938, Cost: 20.840084\n",
            "Epoch    6/20 Prediction: tensor([138.7666, 182.7946]), Cost: 7.659259\n",
            "Epoch    6/20 Prediction: tensor([157.0169, 183.8118]), Cost: 19.849560\n",
            "Epoch    6/20 Prediction: 197.3047637939453, Cost: 1.702409\n",
            "Epoch    7/20 Prediction: tensor([181.1650, 196.5527]), Cost: 0.831364\n",
            "Epoch    7/20 Prediction: tensor([180.8447, 137.2806]), Cost: 19.769339\n",
            "Epoch    7/20 Prediction: 156.03086853027344, Cost: 16.247902\n",
            "Epoch    8/20 Prediction: tensor([181.1099, 154.6317]), Cost: 11.029562\n",
            "Epoch    8/20 Prediction: tensor([181.4116, 137.8103]), Cost: 9.772989\n",
            "Epoch    8/20 Prediction: 197.306396484375, Cost: 1.706672\n",
            "Epoch    9/20 Prediction: tensor([196.5533, 137.6210]), Cost: 9.741040\n",
            "Epoch    9/20 Prediction: tensor([181.8419, 181.9756]), Cost: 6.269855\n",
            "Epoch    9/20 Prediction: 155.59710693359375, Cost: 12.939178\n",
            "Epoch   10/20 Prediction: tensor([137.2369, 196.0074]), Cost: 11.343478\n",
            "Epoch   10/20 Prediction: tensor([181.6902, 181.5568]), Cost: 6.689185\n",
            "Epoch   10/20 Prediction: 155.4713134765625, Cost: 12.050017\n",
            "Epoch   11/20 Prediction: tensor([137.1687, 180.5694]), Cost: 11.832666\n",
            "Epoch   11/20 Prediction: tensor([181.4736, 154.9158]), Cost: 10.468602\n",
            "Epoch   11/20 Prediction: 197.0397491455078, Cost: 1.081078\n",
            "Epoch   12/20 Prediction: tensor([181.0601, 154.6787]), Cost: 4.149486\n",
            "Epoch   12/20 Prediction: tensor([136.9277, 180.3730]), Cost: 23.568352\n",
            "Epoch   12/20 Prediction: 197.84237670898438, Cost: 3.394352\n",
            "Epoch   13/20 Prediction: tensor([196.7804, 154.9398]), Cost: 4.625643\n",
            "Epoch   13/20 Prediction: tensor([180.5621, 180.6903]), Cost: 9.444695\n",
            "Epoch   13/20 Prediction: 137.88893127441406, Cost: 16.900887\n",
            "Epoch   14/20 Prediction: tensor([183.0342, 183.2021]), Cost: 6.219368\n",
            "Epoch   14/20 Prediction: tensor([138.8612, 198.2705]), Cost: 7.503548\n",
            "Epoch   14/20 Prediction: 156.08201599121094, Cost: 16.662855\n",
            "Epoch   15/20 Prediction: tensor([196.4343, 154.6652]), Cost: 3.645835\n",
            "Epoch   15/20 Prediction: tensor([137.0477, 180.5247]), Cost: 22.277067\n",
            "Epoch   15/20 Prediction: 182.4261932373047, Cost: 5.886414\n",
            "Epoch   16/20 Prediction: tensor([181.2469, 181.3953]), Cost: 7.274244\n",
            "Epoch   16/20 Prediction: tensor([197.2832, 155.3200]), Cost: 6.334448\n",
            "Epoch   16/20 Prediction: 137.37770080566406, Cost: 21.365650\n",
            "Epoch   17/20 Prediction: tensor([138.7261, 155.9232]), Cost: 13.054853\n",
            "Epoch   17/20 Prediction: tensor([182.3602, 182.5311]), Cost: 5.832864\n",
            "Epoch   17/20 Prediction: 197.8964080810547, Cost: 3.596364\n",
            "Epoch   18/20 Prediction: tensor([137.8327, 196.8033]), Cost: 9.005690\n",
            "Epoch   18/20 Prediction: tensor([181.9626, 182.1296]), Cost: 6.045697\n",
            "Epoch   18/20 Prediction: 155.61875915527344, Cost: 13.095418\n",
            "Epoch   19/20 Prediction: tensor([180.7077, 180.8587]), Cost: 8.825557\n",
            "Epoch   19/20 Prediction: tensor([196.9838, 137.9659]), Cost: 8.620936\n",
            "Epoch   19/20 Prediction: 155.49896240234375, Cost: 12.242738\n",
            "Epoch   20/20 Prediction: tensor([137.2430, 195.9624]), Cost: 11.315323\n",
            "Epoch   20/20 Prediction: tensor([181.6911, 181.5229]), Cost: 6.633895\n",
            "Epoch   20/20 Prediction: 155.42311096191406, Cost: 11.717689\n"
          ],
          "name": "stdout"
        }
      ]
    }
  ]
}