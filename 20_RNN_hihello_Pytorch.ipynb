{
  "nbformat": 4,
  "nbformat_minor": 0,
  "metadata": {
    "colab": {
      "name": "20_RNN_hihello_Pytorch.ipynb",
      "provenance": [],
      "authorship_tag": "ABX9TyNhwxm76zq6jt9Ji0SXSt7H",
      "include_colab_link": true
    },
    "kernelspec": {
      "name": "python3",
      "display_name": "Python 3"
    },
    "language_info": {
      "name": "python"
    },
    "accelerator": "GPU"
  },
  "cells": [
    {
      "cell_type": "markdown",
      "metadata": {
        "id": "view-in-github",
        "colab_type": "text"
      },
      "source": [
        "<a href=\"https://colab.research.google.com/github/ajw1587/Pytorch_Study/blob/main/20_RNN_hihello_Pytorch.ipynb\" target=\"_parent\"><img src=\"https://colab.research.google.com/assets/colab-badge.svg\" alt=\"Open In Colab\"/></a>"
      ]
    },
    {
      "cell_type": "code",
      "metadata": {
        "colab": {
          "base_uri": "https://localhost:8080/"
        },
        "id": "Is1Jus_9RCfp",
        "outputId": "8662f548-fb5e-42ad-fe6c-75393aed7332"
      },
      "source": [
        "!pip install torch\n",
        "!pip install torchvision"
      ],
      "execution_count": 15,
      "outputs": [
        {
          "output_type": "stream",
          "name": "stdout",
          "text": [
            "Requirement already satisfied: torch in /usr/local/lib/python3.7/dist-packages (1.9.0+cu102)\n",
            "Requirement already satisfied: typing-extensions in /usr/local/lib/python3.7/dist-packages (from torch) (3.7.4.3)\n",
            "Requirement already satisfied: torchvision in /usr/local/lib/python3.7/dist-packages (0.10.0+cu102)\n",
            "Requirement already satisfied: pillow>=5.3.0 in /usr/local/lib/python3.7/dist-packages (from torchvision) (7.1.2)\n",
            "Requirement already satisfied: torch==1.9.0 in /usr/local/lib/python3.7/dist-packages (from torchvision) (1.9.0+cu102)\n",
            "Requirement already satisfied: numpy in /usr/local/lib/python3.7/dist-packages (from torchvision) (1.19.5)\n",
            "Requirement already satisfied: typing-extensions in /usr/local/lib/python3.7/dist-packages (from torch==1.9.0->torchvision) (3.7.4.3)\n"
          ]
        }
      ]
    },
    {
      "cell_type": "code",
      "metadata": {
        "colab": {
          "base_uri": "https://localhost:8080/",
          "height": 35
        },
        "id": "m3ea_OXlROip",
        "outputId": "1666cbe2-13f3-4592-9c3c-5900828549ae"
      },
      "source": [
        "import torch\n",
        "import torch.nn as nn\n",
        "import numpy as np\n",
        "\n",
        "device = 'cuda' if torch.cuda.is_available() else 'cpu'\n",
        "device"
      ],
      "execution_count": 16,
      "outputs": [
        {
          "output_type": "execute_result",
          "data": {
            "application/vnd.google.colaboratory.intrinsic+json": {
              "type": "string"
            },
            "text/plain": [
              "'cuda'"
            ]
          },
          "metadata": {},
          "execution_count": 16
        }
      ]
    },
    {
      "cell_type": "code",
      "metadata": {
        "colab": {
          "base_uri": "https://localhost:8080/"
        },
        "id": "MSRaNruwRc5K",
        "outputId": "9e15f3c9-93c4-491b-eb54-ea9661664436"
      },
      "source": [
        "# 첫번째 방법 직접 해주기\n",
        "char_set_1 = ['h', 'i', 'e', 'l', 'o']\n",
        "\n",
        "# data setting\n",
        "x_data_1 = [[0, 1, 0, 2, 3, 3]]\n",
        "x_one_hot_1 = [[[1, 0, 0, 0, 0],\n",
        "                [0, 1, 0, 0, 0],\n",
        "                [1, 0, 0, 0, 0],\n",
        "                [0, 0, 1, 0, 0],\n",
        "                [0, 0, 0, 1, 0],\n",
        "                [0, 0, 0, 1, 0]]]\n",
        "y_data_1 = [[1, 0, 2, 3, 3, 4]]\n",
        "\n",
        "\n",
        "########################################################################\n",
        "# 두번째 방법\n",
        "char_set = list(set(char_set_1))\n",
        "print(\"char_set: \", char_set)\n",
        "char_dic = {c: i for i,c in enumerate(char_set)}\n",
        "print(\"char_dic: \", char_dic)\n",
        "\n",
        "# hyper parameters\n",
        "dic_size = len(char_dic)\n",
        "hidden_size = len(char_dic)\n",
        "learning_rate = 0.1\n",
        "\n",
        "# data setting\n",
        "sample = \"hihello\"\n",
        "sample_idx = [char_dic[c] for c in sample]\n",
        "x_data = [sample_idx[:-1]]\n",
        "x_one_hot = [np.eye(dic_size)[x] for x in x_data]\n",
        "y_data = [sample_idx[1:]]\n",
        "\n",
        "print(\"sample_idx: \", sample_idx)\n",
        "print(\"x_data: \", x_data)\n",
        "print(\"x_one_hot: \")\n",
        "print(x_one_hot)\n",
        "print(\"y_data: \", y_data)\n",
        "\n",
        "\n",
        "# transform as torch tensor variable\n",
        "X = torch.FloatTensor(x_one_hot)\n",
        "print(X.shape)\n",
        "Y = torch.LongTensor(y_data)\n",
        "print(Y.shape)"
      ],
      "execution_count": 26,
      "outputs": [
        {
          "output_type": "stream",
          "name": "stdout",
          "text": [
            "char_set:  ['h', 'o', 'e', 'i', 'l']\n",
            "char_dic:  {'h': 0, 'o': 1, 'e': 2, 'i': 3, 'l': 4}\n",
            "sample_idx:  [0, 3, 0, 2, 4, 4, 1]\n",
            "x_data:  [[0, 3, 0, 2, 4, 4]]\n",
            "x_one_hot: \n",
            "[array([[1., 0., 0., 0., 0.],\n",
            "       [0., 0., 0., 1., 0.],\n",
            "       [1., 0., 0., 0., 0.],\n",
            "       [0., 0., 1., 0., 0.],\n",
            "       [0., 0., 0., 0., 1.],\n",
            "       [0., 0., 0., 0., 1.]])]\n",
            "y_data:  [[3, 0, 2, 4, 4, 1]]\n",
            "torch.Size([1, 6, 5])\n",
            "torch.Size([1, 6])\n"
          ]
        }
      ]
    },
    {
      "cell_type": "code",
      "metadata": {
        "colab": {
          "base_uri": "https://localhost:8080/"
        },
        "id": "zQYhopzbUm7B",
        "outputId": "bbef3af8-03f7-4232-bab5-4d69cf7b30f2"
      },
      "source": [
        "# declare RNN\n",
        "rnn = torch.nn.RNN(dic_size, hidden_size, batch_first = True)\n",
        "\n",
        "# loss & optimizer setting\n",
        "criterion = torch.nn.CrossEntropyLoss()\n",
        "optimizer = torch.optim.Adam(rnn.parameters(), learning_rate)\n",
        "\n",
        "# start training\n",
        "for i in range(100):\n",
        "  optimizer.zero_grad()\n",
        "  outputs, _status = rnn(X)\n",
        "  loss = criterion(outputs.view(-1, dic_size), Y.view(-1))\n",
        "  loss.backward()\n",
        "  optimizer.step()\n",
        "\n",
        "  result = outputs.data.numpy().argmax(axis=2)\n",
        "  result_str = ''.join([char_set[c] for c in np.squeeze(result)])\n",
        "  print(i, \"loss: \", loss.item(), \"prediction: \", result, \"true Y: \", y_data, \"prediction str: \", result_str)\n"
      ],
      "execution_count": 23,
      "outputs": [
        {
          "output_type": "stream",
          "name": "stdout",
          "text": [
            "0 loss:  1.6732865571975708 prediction:  [[3 4 3 3 3 4]] true Y:  [[3, 0, 2, 4, 4, 1]] prediction str:  iliiil\n",
            "1 loss:  1.4105950593948364 prediction:  [[3 0 3 4 0 4]] true Y:  [[3, 0, 2, 4, 4, 1]] prediction str:  ihilhl\n",
            "2 loss:  1.2371126413345337 prediction:  [[0 0 2 4 4 4]] true Y:  [[3, 0, 2, 4, 4, 1]] prediction str:  hhelll\n",
            "3 loss:  1.1034424304962158 prediction:  [[3 0 2 4 4 4]] true Y:  [[3, 0, 2, 4, 4, 1]] prediction str:  ihelll\n",
            "4 loss:  0.9917269349098206 prediction:  [[3 0 2 4 4 4]] true Y:  [[3, 0, 2, 4, 4, 1]] prediction str:  ihelll\n",
            "5 loss:  0.9009091258049011 prediction:  [[3 0 2 4 4 4]] true Y:  [[3, 0, 2, 4, 4, 1]] prediction str:  ihelll\n",
            "6 loss:  0.8245546221733093 prediction:  [[3 0 2 4 4 4]] true Y:  [[3, 0, 2, 4, 4, 1]] prediction str:  ihelll\n",
            "7 loss:  0.7632582783699036 prediction:  [[3 0 2 4 4 4]] true Y:  [[3, 0, 2, 4, 4, 1]] prediction str:  ihelll\n",
            "8 loss:  0.7139593958854675 prediction:  [[3 0 2 4 4 4]] true Y:  [[3, 0, 2, 4, 4, 1]] prediction str:  ihelll\n",
            "9 loss:  0.673866331577301 prediction:  [[3 0 2 4 4 4]] true Y:  [[3, 0, 2, 4, 4, 1]] prediction str:  ihelll\n",
            "10 loss:  0.6434757709503174 prediction:  [[3 0 2 4 4 4]] true Y:  [[3, 0, 2, 4, 4, 1]] prediction str:  ihelll\n",
            "11 loss:  0.6214892268180847 prediction:  [[3 0 2 4 4 4]] true Y:  [[3, 0, 2, 4, 4, 1]] prediction str:  ihelll\n",
            "12 loss:  0.604499101638794 prediction:  [[3 0 2 4 4 4]] true Y:  [[3, 0, 2, 4, 4, 1]] prediction str:  ihelll\n",
            "13 loss:  0.5906174182891846 prediction:  [[3 0 2 4 4 4]] true Y:  [[3, 0, 2, 4, 4, 1]] prediction str:  ihelll\n",
            "14 loss:  0.5793959498405457 prediction:  [[3 0 2 4 4 4]] true Y:  [[3, 0, 2, 4, 4, 1]] prediction str:  ihelll\n",
            "15 loss:  0.5707137584686279 prediction:  [[3 0 2 4 4 4]] true Y:  [[3, 0, 2, 4, 4, 1]] prediction str:  ihelll\n",
            "16 loss:  0.564019501209259 prediction:  [[3 0 2 4 4 4]] true Y:  [[3, 0, 2, 4, 4, 1]] prediction str:  ihelll\n",
            "17 loss:  0.558375895023346 prediction:  [[3 0 2 4 4 4]] true Y:  [[3, 0, 2, 4, 4, 1]] prediction str:  ihelll\n",
            "18 loss:  0.553295373916626 prediction:  [[3 0 2 4 4 1]] true Y:  [[3, 0, 2, 4, 4, 1]] prediction str:  ihello\n",
            "19 loss:  0.548552930355072 prediction:  [[3 0 2 4 4 1]] true Y:  [[3, 0, 2, 4, 4, 1]] prediction str:  ihello\n",
            "20 loss:  0.543497622013092 prediction:  [[3 0 2 4 4 1]] true Y:  [[3, 0, 2, 4, 4, 1]] prediction str:  ihello\n",
            "21 loss:  0.5371729135513306 prediction:  [[3 0 2 4 4 1]] true Y:  [[3, 0, 2, 4, 4, 1]] prediction str:  ihello\n",
            "22 loss:  0.5283233523368835 prediction:  [[3 0 2 4 4 1]] true Y:  [[3, 0, 2, 4, 4, 1]] prediction str:  ihello\n",
            "23 loss:  0.5161057710647583 prediction:  [[3 0 2 4 4 1]] true Y:  [[3, 0, 2, 4, 4, 1]] prediction str:  ihello\n",
            "24 loss:  0.5058333873748779 prediction:  [[3 0 2 4 4 1]] true Y:  [[3, 0, 2, 4, 4, 1]] prediction str:  ihello\n",
            "25 loss:  0.5048676133155823 prediction:  [[3 0 2 4 4 1]] true Y:  [[3, 0, 2, 4, 4, 1]] prediction str:  ihello\n",
            "26 loss:  0.5009904503822327 prediction:  [[3 0 2 4 4 1]] true Y:  [[3, 0, 2, 4, 4, 1]] prediction str:  ihello\n",
            "27 loss:  0.49253129959106445 prediction:  [[3 0 2 4 4 1]] true Y:  [[3, 0, 2, 4, 4, 1]] prediction str:  ihello\n",
            "28 loss:  0.4906790554523468 prediction:  [[3 0 2 4 4 1]] true Y:  [[3, 0, 2, 4, 4, 1]] prediction str:  ihello\n",
            "29 loss:  0.48256397247314453 prediction:  [[3 0 2 4 4 1]] true Y:  [[3, 0, 2, 4, 4, 1]] prediction str:  ihello\n",
            "30 loss:  0.48208412528038025 prediction:  [[3 0 2 4 4 1]] true Y:  [[3, 0, 2, 4, 4, 1]] prediction str:  ihello\n",
            "31 loss:  0.48270270228385925 prediction:  [[3 0 2 4 4 1]] true Y:  [[3, 0, 2, 4, 4, 1]] prediction str:  ihello\n",
            "32 loss:  0.4799840748310089 prediction:  [[3 0 2 4 4 1]] true Y:  [[3, 0, 2, 4, 4, 1]] prediction str:  ihello\n",
            "33 loss:  0.4810652732849121 prediction:  [[3 0 2 4 4 1]] true Y:  [[3, 0, 2, 4, 4, 1]] prediction str:  ihello\n",
            "34 loss:  0.47960105538368225 prediction:  [[3 0 2 4 4 1]] true Y:  [[3, 0, 2, 4, 4, 1]] prediction str:  ihello\n",
            "35 loss:  0.4767056405544281 prediction:  [[3 0 2 4 4 1]] true Y:  [[3, 0, 2, 4, 4, 1]] prediction str:  ihello\n",
            "36 loss:  0.4764857292175293 prediction:  [[3 0 2 4 4 1]] true Y:  [[3, 0, 2, 4, 4, 1]] prediction str:  ihello\n",
            "37 loss:  0.4740923345088959 prediction:  [[3 0 2 4 4 1]] true Y:  [[3, 0, 2, 4, 4, 1]] prediction str:  ihello\n",
            "38 loss:  0.47221294045448303 prediction:  [[3 0 2 4 4 1]] true Y:  [[3, 0, 2, 4, 4, 1]] prediction str:  ihello\n",
            "39 loss:  0.47249773144721985 prediction:  [[3 0 2 4 4 1]] true Y:  [[3, 0, 2, 4, 4, 1]] prediction str:  ihello\n",
            "40 loss:  0.47113099694252014 prediction:  [[3 0 2 4 4 1]] true Y:  [[3, 0, 2, 4, 4, 1]] prediction str:  ihello\n",
            "41 loss:  0.47165998816490173 prediction:  [[3 0 2 4 4 1]] true Y:  [[3, 0, 2, 4, 4, 1]] prediction str:  ihello\n",
            "42 loss:  0.47095879912376404 prediction:  [[3 0 2 4 4 1]] true Y:  [[3, 0, 2, 4, 4, 1]] prediction str:  ihello\n",
            "43 loss:  0.46949347853660583 prediction:  [[3 0 2 4 4 1]] true Y:  [[3, 0, 2, 4, 4, 1]] prediction str:  ihello\n",
            "44 loss:  0.46883758902549744 prediction:  [[3 0 2 4 4 1]] true Y:  [[3, 0, 2, 4, 4, 1]] prediction str:  ihello\n",
            "45 loss:  0.46707475185394287 prediction:  [[3 0 2 4 4 1]] true Y:  [[3, 0, 2, 4, 4, 1]] prediction str:  ihello\n",
            "46 loss:  0.46713900566101074 prediction:  [[3 0 2 4 4 1]] true Y:  [[3, 0, 2, 4, 4, 1]] prediction str:  ihello\n",
            "47 loss:  0.466233491897583 prediction:  [[3 0 2 4 4 1]] true Y:  [[3, 0, 2, 4, 4, 1]] prediction str:  ihello\n",
            "48 loss:  0.4660649001598358 prediction:  [[3 0 2 4 4 1]] true Y:  [[3, 0, 2, 4, 4, 1]] prediction str:  ihello\n",
            "49 loss:  0.4657524824142456 prediction:  [[3 0 2 4 4 1]] true Y:  [[3, 0, 2, 4, 4, 1]] prediction str:  ihello\n",
            "50 loss:  0.46508848667144775 prediction:  [[3 0 2 4 4 1]] true Y:  [[3, 0, 2, 4, 4, 1]] prediction str:  ihello\n",
            "51 loss:  0.46491649746894836 prediction:  [[3 0 2 4 4 1]] true Y:  [[3, 0, 2, 4, 4, 1]] prediction str:  ihello\n",
            "52 loss:  0.4639674127101898 prediction:  [[3 0 2 4 4 1]] true Y:  [[3, 0, 2, 4, 4, 1]] prediction str:  ihello\n",
            "53 loss:  0.463857501745224 prediction:  [[3 0 2 4 4 1]] true Y:  [[3, 0, 2, 4, 4, 1]] prediction str:  ihello\n",
            "54 loss:  0.4629787504673004 prediction:  [[3 0 2 4 4 1]] true Y:  [[3, 0, 2, 4, 4, 1]] prediction str:  ihello\n",
            "55 loss:  0.46294906735420227 prediction:  [[3 0 2 4 4 1]] true Y:  [[3, 0, 2, 4, 4, 1]] prediction str:  ihello\n",
            "56 loss:  0.4623607397079468 prediction:  [[3 0 2 4 4 1]] true Y:  [[3, 0, 2, 4, 4, 1]] prediction str:  ihello\n",
            "57 loss:  0.46248719096183777 prediction:  [[3 0 2 4 4 1]] true Y:  [[3, 0, 2, 4, 4, 1]] prediction str:  ihello\n",
            "58 loss:  0.46200668811798096 prediction:  [[3 0 2 4 4 1]] true Y:  [[3, 0, 2, 4, 4, 1]] prediction str:  ihello\n",
            "59 loss:  0.46203556656837463 prediction:  [[3 0 2 4 4 1]] true Y:  [[3, 0, 2, 4, 4, 1]] prediction str:  ihello\n",
            "60 loss:  0.46152952313423157 prediction:  [[3 0 2 4 4 1]] true Y:  [[3, 0, 2, 4, 4, 1]] prediction str:  ihello\n",
            "61 loss:  0.46145203709602356 prediction:  [[3 0 2 4 4 1]] true Y:  [[3, 0, 2, 4, 4, 1]] prediction str:  ihello\n",
            "62 loss:  0.4609808027744293 prediction:  [[3 0 2 4 4 1]] true Y:  [[3, 0, 2, 4, 4, 1]] prediction str:  ihello\n",
            "63 loss:  0.4608944356441498 prediction:  [[3 0 2 4 4 1]] true Y:  [[3, 0, 2, 4, 4, 1]] prediction str:  ihello\n",
            "64 loss:  0.46056851744651794 prediction:  [[3 0 2 4 4 1]] true Y:  [[3, 0, 2, 4, 4, 1]] prediction str:  ihello\n",
            "65 loss:  0.46049964427948 prediction:  [[3 0 2 4 4 1]] true Y:  [[3, 0, 2, 4, 4, 1]] prediction str:  ihello\n",
            "66 loss:  0.4602862596511841 prediction:  [[3 0 2 4 4 1]] true Y:  [[3, 0, 2, 4, 4, 1]] prediction str:  ihello\n",
            "67 loss:  0.46012213826179504 prediction:  [[3 0 2 4 4 1]] true Y:  [[3, 0, 2, 4, 4, 1]] prediction str:  ihello\n",
            "68 loss:  0.4599655866622925 prediction:  [[3 0 2 4 4 1]] true Y:  [[3, 0, 2, 4, 4, 1]] prediction str:  ihello\n",
            "69 loss:  0.4596995413303375 prediction:  [[3 0 2 4 4 1]] true Y:  [[3, 0, 2, 4, 4, 1]] prediction str:  ihello\n",
            "70 loss:  0.4595812261104584 prediction:  [[3 0 2 4 4 1]] true Y:  [[3, 0, 2, 4, 4, 1]] prediction str:  ihello\n",
            "71 loss:  0.45930421352386475 prediction:  [[3 0 2 4 4 1]] true Y:  [[3, 0, 2, 4, 4, 1]] prediction str:  ihello\n",
            "72 loss:  0.45920324325561523 prediction:  [[3 0 2 4 4 1]] true Y:  [[3, 0, 2, 4, 4, 1]] prediction str:  ihello\n",
            "73 loss:  0.45898786187171936 prediction:  [[3 0 2 4 4 1]] true Y:  [[3, 0, 2, 4, 4, 1]] prediction str:  ihello\n",
            "74 loss:  0.45885953307151794 prediction:  [[3 0 2 4 4 1]] true Y:  [[3, 0, 2, 4, 4, 1]] prediction str:  ihello\n",
            "75 loss:  0.4587249755859375 prediction:  [[3 0 2 4 4 1]] true Y:  [[3, 0, 2, 4, 4, 1]] prediction str:  ihello\n",
            "76 loss:  0.45854854583740234 prediction:  [[3 0 2 4 4 1]] true Y:  [[3, 0, 2, 4, 4, 1]] prediction str:  ihello\n",
            "77 loss:  0.4584439694881439 prediction:  [[3 0 2 4 4 1]] true Y:  [[3, 0, 2, 4, 4, 1]] prediction str:  ihello\n",
            "78 loss:  0.45825016498565674 prediction:  [[3 0 2 4 4 1]] true Y:  [[3, 0, 2, 4, 4, 1]] prediction str:  ihello\n",
            "79 loss:  0.45813265442848206 prediction:  [[3 0 2 4 4 1]] true Y:  [[3, 0, 2, 4, 4, 1]] prediction str:  ihello\n",
            "80 loss:  0.4579775035381317 prediction:  [[3 0 2 4 4 1]] true Y:  [[3, 0, 2, 4, 4, 1]] prediction str:  ihello\n",
            "81 loss:  0.45783039927482605 prediction:  [[3 0 2 4 4 1]] true Y:  [[3, 0, 2, 4, 4, 1]] prediction str:  ihello\n",
            "82 loss:  0.45772984623908997 prediction:  [[3 0 2 4 4 1]] true Y:  [[3, 0, 2, 4, 4, 1]] prediction str:  ihello\n",
            "83 loss:  0.4575788080692291 prediction:  [[3 0 2 4 4 1]] true Y:  [[3, 0, 2, 4, 4, 1]] prediction str:  ihello\n",
            "84 loss:  0.45747455954551697 prediction:  [[3 0 2 4 4 1]] true Y:  [[3, 0, 2, 4, 4, 1]] prediction str:  ihello\n",
            "85 loss:  0.457357257604599 prediction:  [[3 0 2 4 4 1]] true Y:  [[3, 0, 2, 4, 4, 1]] prediction str:  ihello\n",
            "86 loss:  0.4572214186191559 prediction:  [[3 0 2 4 4 1]] true Y:  [[3, 0, 2, 4, 4, 1]] prediction str:  ihello\n",
            "87 loss:  0.45711949467658997 prediction:  [[3 0 2 4 4 1]] true Y:  [[3, 0, 2, 4, 4, 1]] prediction str:  ihello\n",
            "88 loss:  0.4569912850856781 prediction:  [[3 0 2 4 4 1]] true Y:  [[3, 0, 2, 4, 4, 1]] prediction str:  ihello\n",
            "89 loss:  0.45687320828437805 prediction:  [[3 0 2 4 4 1]] true Y:  [[3, 0, 2, 4, 4, 1]] prediction str:  ihello\n",
            "90 loss:  0.45677271485328674 prediction:  [[3 0 2 4 4 1]] true Y:  [[3, 0, 2, 4, 4, 1]] prediction str:  ihello\n",
            "91 loss:  0.4566536247730255 prediction:  [[3 0 2 4 4 1]] true Y:  [[3, 0, 2, 4, 4, 1]] prediction str:  ihello\n",
            "92 loss:  0.45655250549316406 prediction:  [[3 0 2 4 4 1]] true Y:  [[3, 0, 2, 4, 4, 1]] prediction str:  ihello\n",
            "93 loss:  0.4564545452594757 prediction:  [[3 0 2 4 4 1]] true Y:  [[3, 0, 2, 4, 4, 1]] prediction str:  ihello\n",
            "94 loss:  0.4563429057598114 prediction:  [[3 0 2 4 4 1]] true Y:  [[3, 0, 2, 4, 4, 1]] prediction str:  ihello\n",
            "95 loss:  0.45624586939811707 prediction:  [[3 0 2 4 4 1]] true Y:  [[3, 0, 2, 4, 4, 1]] prediction str:  ihello\n",
            "96 loss:  0.45614659786224365 prediction:  [[3 0 2 4 4 1]] true Y:  [[3, 0, 2, 4, 4, 1]] prediction str:  ihello\n",
            "97 loss:  0.45603904128074646 prediction:  [[3 0 2 4 4 1]] true Y:  [[3, 0, 2, 4, 4, 1]] prediction str:  ihello\n",
            "98 loss:  0.45594456791877747 prediction:  [[3 0 2 4 4 1]] true Y:  [[3, 0, 2, 4, 4, 1]] prediction str:  ihello\n",
            "99 loss:  0.45585012435913086 prediction:  [[3 0 2 4 4 1]] true Y:  [[3, 0, 2, 4, 4, 1]] prediction str:  ihello\n"
          ]
        }
      ]
    },
    {
      "cell_type": "code",
      "metadata": {
        "id": "K-Y2_LqtZ4iB"
      },
      "source": [
        ""
      ],
      "execution_count": null,
      "outputs": []
    }
  ]
}