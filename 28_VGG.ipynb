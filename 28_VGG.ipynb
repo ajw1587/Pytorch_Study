{
  "nbformat": 4,
  "nbformat_minor": 0,
  "metadata": {
    "colab": {
      "name": "28_VGG.ipynb",
      "provenance": [],
      "collapsed_sections": [],
      "authorship_tag": "ABX9TyO7BD51ZPU9ZPTTfpOgIyeu",
      "include_colab_link": true
    },
    "kernelspec": {
      "name": "python3",
      "display_name": "Python 3"
    },
    "language_info": {
      "name": "python"
    },
    "accelerator": "GPU"
  },
  "cells": [
    {
      "cell_type": "markdown",
      "metadata": {
        "id": "view-in-github",
        "colab_type": "text"
      },
      "source": [
        "<a href=\"https://colab.research.google.com/github/ajw1587/Pytorch_Study/blob/main/28_VGG.ipynb\" target=\"_parent\"><img src=\"https://colab.research.google.com/assets/colab-badge.svg\" alt=\"Open In Colab\"/></a>"
      ]
    },
    {
      "cell_type": "code",
      "execution_count": 15,
      "metadata": {
        "colab": {
          "base_uri": "https://localhost:8080/"
        },
        "id": "GqWrlNv6UQ4r",
        "outputId": "b1e0c2dc-b6db-48b5-8d2e-807aebc52db1"
      },
      "outputs": [
        {
          "output_type": "stream",
          "name": "stdout",
          "text": [
            "cuda\n"
          ]
        }
      ],
      "source": [
        "import torch\n",
        "import torchvision\n",
        "import torch.nn as nn\n",
        "import torch.nn.functional as F\n",
        "from torchsummary import summary\n",
        "from torchvision import transforms\n",
        "from torchvision import models\n",
        "\n",
        "if torch.cuda.is_available():\n",
        "  device = torch.device('cuda')\n",
        "  print(device)\n",
        "else:\n",
        "  device = torch.device('cpu')\n",
        "  print(device)"
      ]
    },
    {
      "cell_type": "markdown",
      "source": [
        "## Extract Pretrained Weight Value\n",
        "학습된 가중치 값 뽑아내기"
      ],
      "metadata": {
        "id": "qZ70Q1MQhqvI"
      }
    },
    {
      "cell_type": "code",
      "source": [
        "model = models.vgg11_bn().to(device)\n",
        "# summary(model, input_size = (3, 224, 224))\n",
        "\n",
        "# print(weight_dict)\n",
        "weight_list = [(c_key, c_weight) for (c_key, c_weight) in model.state_dict().items()]\n",
        "\n",
        "w_idx = [0, 7, 14, 21, 56, 58, 60]\n",
        "vgg11_w = []\n",
        "for i, weight in enumerate(weight_list):\n",
        "  name, value = weight_list[i]\n",
        "  # print(i, \"     \", name, \"             \", value.shape) # weight 값 확인\n",
        "  # 0, 7, 14, 21, 56, 58, 60 weight 추출 후 Custom Layer에 적용\n",
        "\n",
        "for i, weight in enumerate(weight_list):\n",
        "  name, value = weight_list[i]\n",
        "  for j in w_idx:\n",
        "    if i == j:\n",
        "      vgg11_w.append(value)\n",
        "\n",
        "for i in range(len(vgg11_w)):\n",
        "  print(vgg11_w[i].shape)"
      ],
      "metadata": {
        "colab": {
          "base_uri": "https://localhost:8080/"
        },
        "id": "SVSX1zZLZP99",
        "outputId": "7e237e68-8e53-4a98-f213-ae8d0c5cddc3"
      },
      "execution_count": 16,
      "outputs": [
        {
          "output_type": "stream",
          "name": "stdout",
          "text": [
            "torch.Size([64, 3, 3, 3])\n",
            "torch.Size([128, 64, 3, 3])\n",
            "torch.Size([256, 128, 3, 3])\n",
            "torch.Size([256, 256, 3, 3])\n",
            "torch.Size([4096, 25088])\n",
            "torch.Size([4096, 4096])\n",
            "torch.Size([1000, 4096])\n"
          ]
        }
      ]
    },
    {
      "cell_type": "markdown",
      "source": [
        "## VGG Model\n",
        "VGG 모델 구축해주기"
      ],
      "metadata": {
        "id": "McJD6O_Th8kn"
      }
    },
    {
      "cell_type": "code",
      "source": [
        "class CUSTOM_VGG(nn.Module):\n",
        "  def __init__(self, cfg, vgg11_w, num_classes, init_weights=True):\n",
        "    super(CUSTOM_VGG, self).__init__()\n",
        "\n",
        "    # Convolution Layers\n",
        "    self.vgg_model = self.make_layers(cfg)\n",
        "    \n",
        "    # Classifier\n",
        "    self.classifier = nn.Sequential(\n",
        "        nn.Linear(512 * 7 * 7, 4096),\n",
        "        nn.ReLU(),\n",
        "        nn.Dropout(0.5),\n",
        "        nn.Linear(4096, 4096),\n",
        "        nn.ReLU(),\n",
        "        nn.Dropout(0.5),\n",
        "        nn.Linear(4096,num_classes)\n",
        "    )\n",
        "\n",
        "    # Initialization Weights\n",
        "    if init_weights == True:\n",
        "      self.init_weights(vgg11_w)\n",
        "\n",
        "  def make_layers(self, layer_list):\n",
        "    layers = []\n",
        "    in_channels = 3\n",
        "    for v in layer_list:\n",
        "      if v == 'M':\n",
        "        layers += [nn.MaxPool2d(kernel_size=2, stride=2, padding=2)]\n",
        "      else:\n",
        "        conv2d = nn.Conv2d(in_channels, v, kernel_size=3, stride=1, padding=1)\n",
        "        layers += [conv2d, nn.ReLU(), nn.BatchNorm2d(v)]\n",
        "        in_channels = v\n",
        "    return nn.Sequential(*layers)\n",
        "\n",
        "  def init_weights(self, vgg11_w):\n",
        "    count = 0\n",
        "    for layer in self.vgg_model:\n",
        "      if isinstance(layer, nn.Conv2d) and count < 4:\n",
        "        print(count)\n",
        "        layer.weight.data = vgg11_w[count]                          # Weight는 VGG11에서 학습한 Weight를 사용한다.\n",
        "        nn.init.constant_(layer.bias, 0)                            # Bias는 0으로 초기화\n",
        "        count += 1\n",
        "      elif isinstance(layer, nn.Conv2d) and count >= 4:\n",
        "        torch.nn.init.normal_(layer.weight, mean=0, std=0.1)        # 평균 0, 분산 0.01\n",
        "        nn.init.constant_(layer.bias, 0)\n",
        "      elif isinstance(layer, nn.Linear):\n",
        "        print(layer)\n",
        "        layer.weight.data = vgg11_w[count]\n",
        "        nn.init.constant_(layer.bias, 0)\n",
        "        count += 1\n",
        "      elif isinstance(layer, nn.BatchNorm2d):\n",
        "        nn.init.constant_(layer.weight, 1)\n",
        "        nn.init.constant_(layer.bias, 0)\n",
        "\n",
        "\n",
        "cfg = [64, 64, 'M', 128, 128, 'M', 256, 256, 256, 'M', 512, 512, 512, 'M', 512, 512, 512, 'M']\n",
        "model = CUSTOM_VGG(cfg, vgg11_w, num_classes=10)\n",
        "print(model)"
      ],
      "metadata": {
        "id": "TgvXl0CFabbr",
        "colab": {
          "base_uri": "https://localhost:8080/"
        },
        "outputId": "f1c6d328-2865-4054-99e3-77caeb5d11a0"
      },
      "execution_count": 23,
      "outputs": [
        {
          "output_type": "stream",
          "name": "stdout",
          "text": [
            "0\n",
            "1\n",
            "2\n",
            "3\n",
            "CUSTOM_VGG(\n",
            "  (vgg_model): Sequential(\n",
            "    (0): Conv2d(3, 64, kernel_size=(3, 3), stride=(1, 1), padding=(1, 1))\n",
            "    (1): ReLU()\n",
            "    (2): BatchNorm2d(64, eps=1e-05, momentum=0.1, affine=True, track_running_stats=True)\n",
            "    (3): Conv2d(64, 64, kernel_size=(3, 3), stride=(1, 1), padding=(1, 1))\n",
            "    (4): ReLU()\n",
            "    (5): BatchNorm2d(64, eps=1e-05, momentum=0.1, affine=True, track_running_stats=True)\n",
            "    (6): MaxPool2d(kernel_size=2, stride=2, padding=2, dilation=1, ceil_mode=False)\n",
            "    (7): Conv2d(64, 128, kernel_size=(3, 3), stride=(1, 1), padding=(1, 1))\n",
            "    (8): ReLU()\n",
            "    (9): BatchNorm2d(128, eps=1e-05, momentum=0.1, affine=True, track_running_stats=True)\n",
            "    (10): Conv2d(128, 128, kernel_size=(3, 3), stride=(1, 1), padding=(1, 1))\n",
            "    (11): ReLU()\n",
            "    (12): BatchNorm2d(128, eps=1e-05, momentum=0.1, affine=True, track_running_stats=True)\n",
            "    (13): MaxPool2d(kernel_size=2, stride=2, padding=2, dilation=1, ceil_mode=False)\n",
            "    (14): Conv2d(128, 256, kernel_size=(3, 3), stride=(1, 1), padding=(1, 1))\n",
            "    (15): ReLU()\n",
            "    (16): BatchNorm2d(256, eps=1e-05, momentum=0.1, affine=True, track_running_stats=True)\n",
            "    (17): Conv2d(256, 256, kernel_size=(3, 3), stride=(1, 1), padding=(1, 1))\n",
            "    (18): ReLU()\n",
            "    (19): BatchNorm2d(256, eps=1e-05, momentum=0.1, affine=True, track_running_stats=True)\n",
            "    (20): Conv2d(256, 256, kernel_size=(3, 3), stride=(1, 1), padding=(1, 1))\n",
            "    (21): ReLU()\n",
            "    (22): BatchNorm2d(256, eps=1e-05, momentum=0.1, affine=True, track_running_stats=True)\n",
            "    (23): MaxPool2d(kernel_size=2, stride=2, padding=2, dilation=1, ceil_mode=False)\n",
            "    (24): Conv2d(256, 512, kernel_size=(3, 3), stride=(1, 1), padding=(1, 1))\n",
            "    (25): ReLU()\n",
            "    (26): BatchNorm2d(512, eps=1e-05, momentum=0.1, affine=True, track_running_stats=True)\n",
            "    (27): Conv2d(512, 512, kernel_size=(3, 3), stride=(1, 1), padding=(1, 1))\n",
            "    (28): ReLU()\n",
            "    (29): BatchNorm2d(512, eps=1e-05, momentum=0.1, affine=True, track_running_stats=True)\n",
            "    (30): Conv2d(512, 512, kernel_size=(3, 3), stride=(1, 1), padding=(1, 1))\n",
            "    (31): ReLU()\n",
            "    (32): BatchNorm2d(512, eps=1e-05, momentum=0.1, affine=True, track_running_stats=True)\n",
            "    (33): MaxPool2d(kernel_size=2, stride=2, padding=2, dilation=1, ceil_mode=False)\n",
            "    (34): Conv2d(512, 512, kernel_size=(3, 3), stride=(1, 1), padding=(1, 1))\n",
            "    (35): ReLU()\n",
            "    (36): BatchNorm2d(512, eps=1e-05, momentum=0.1, affine=True, track_running_stats=True)\n",
            "    (37): Conv2d(512, 512, kernel_size=(3, 3), stride=(1, 1), padding=(1, 1))\n",
            "    (38): ReLU()\n",
            "    (39): BatchNorm2d(512, eps=1e-05, momentum=0.1, affine=True, track_running_stats=True)\n",
            "    (40): Conv2d(512, 512, kernel_size=(3, 3), stride=(1, 1), padding=(1, 1))\n",
            "    (41): ReLU()\n",
            "    (42): BatchNorm2d(512, eps=1e-05, momentum=0.1, affine=True, track_running_stats=True)\n",
            "    (43): MaxPool2d(kernel_size=2, stride=2, padding=2, dilation=1, ceil_mode=False)\n",
            "  )\n",
            "  (classifier): Sequential(\n",
            "    (0): Linear(in_features=25088, out_features=4096, bias=True)\n",
            "    (1): ReLU()\n",
            "    (2): Dropout(p=0.5, inplace=False)\n",
            "    (3): Linear(in_features=4096, out_features=4096, bias=True)\n",
            "    (4): ReLU()\n",
            "    (5): Dropout(p=0.5, inplace=False)\n",
            "    (6): Linear(in_features=4096, out_features=10, bias=True)\n",
            "  )\n",
            ")\n"
          ]
        }
      ]
    },
    {
      "cell_type": "code",
      "source": [
        ""
      ],
      "metadata": {
        "id": "-3BJ0KoAWoPP"
      },
      "execution_count": 17,
      "outputs": []
    }
  ]
}