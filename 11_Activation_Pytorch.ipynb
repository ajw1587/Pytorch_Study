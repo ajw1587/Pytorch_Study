{
  "nbformat": 4,
  "nbformat_minor": 0,
  "metadata": {
    "colab": {
      "name": "11_Activation_Pytorch.ipynb",
      "provenance": [],
      "authorship_tag": "ABX9TyNc3jarOWX5oU0RQWYTOEUl",
      "include_colab_link": true
    },
    "kernelspec": {
      "name": "python3",
      "display_name": "Python 3"
    },
    "language_info": {
      "name": "python"
    },
    "accelerator": "GPU"
  },
  "cells": [
    {
      "cell_type": "markdown",
      "metadata": {
        "id": "view-in-github",
        "colab_type": "text"
      },
      "source": [
        "<a href=\"https://colab.research.google.com/github/ajw1587/Pytorch_Study/blob/main/11_Activation_Pytorch.ipynb\" target=\"_parent\"><img src=\"https://colab.research.google.com/assets/colab-badge.svg\" alt=\"Open In Colab\"/></a>"
      ]
    },
    {
      "cell_type": "code",
      "metadata": {
        "colab": {
          "base_uri": "https://localhost:8080/"
        },
        "id": "smb1TmkkMnqK",
        "outputId": "e3485385-9439-4b4f-e8dc-b6e003ed39a7"
      },
      "source": [
        "!pip install torch\n",
        "!pip install torchvision"
      ],
      "execution_count": 152,
      "outputs": [
        {
          "output_type": "stream",
          "name": "stdout",
          "text": [
            "Requirement already satisfied: torch in /usr/local/lib/python3.7/dist-packages (1.9.0+cu102)\n",
            "Requirement already satisfied: typing-extensions in /usr/local/lib/python3.7/dist-packages (from torch) (3.7.4.3)\n",
            "Requirement already satisfied: torchvision in /usr/local/lib/python3.7/dist-packages (0.10.0+cu102)\n",
            "Requirement already satisfied: pillow>=5.3.0 in /usr/local/lib/python3.7/dist-packages (from torchvision) (7.1.2)\n",
            "Requirement already satisfied: numpy in /usr/local/lib/python3.7/dist-packages (from torchvision) (1.19.5)\n",
            "Requirement already satisfied: torch==1.9.0 in /usr/local/lib/python3.7/dist-packages (from torchvision) (1.9.0+cu102)\n",
            "Requirement already satisfied: typing-extensions in /usr/local/lib/python3.7/dist-packages (from torch==1.9.0->torchvision) (3.7.4.3)\n"
          ]
        }
      ]
    },
    {
      "cell_type": "code",
      "metadata": {
        "colab": {
          "base_uri": "https://localhost:8080/"
        },
        "id": "I13nVo-SM9ex",
        "outputId": "f6c96d82-816b-47fb-a2ff-5e45fdd06d82"
      },
      "source": [
        "import torch\n",
        "import torch.nn as nn\n",
        "import torch.nn.functional as F\n",
        "import torch.optim as optim\n",
        "import torchvision\n",
        "import torchvision.datasets as dsets\n",
        "import torchvision.transforms as transforms\n",
        "\n",
        "device = 'cuda' if torch.cuda.is_available() else 'cpu'\n",
        "print(device)"
      ],
      "execution_count": 153,
      "outputs": [
        {
          "output_type": "stream",
          "name": "stdout",
          "text": [
            "cuda\n"
          ]
        }
      ]
    },
    {
      "cell_type": "code",
      "metadata": {
        "colab": {
          "base_uri": "https://localhost:8080/"
        },
        "id": "HHq5eDVMNj3Y",
        "outputId": "54f5b092-e4c4-43e0-d2ec-e5cb47247a1b"
      },
      "source": [
        "train_dataset = dsets.MNIST(root = '../data/',\n",
        "                            train = True,\n",
        "                            transform = transforms.ToTensor(),\n",
        "                            download = True)\n",
        "test_dataset = dsets.MNIST(root = '../data/',\n",
        "                           train = False,\n",
        "                           transform = transforms.ToTensor(),\n",
        "                           download = True)\n",
        "\n",
        "print(type(train_dataset))\n",
        "print(train_dataset.data.shape)\n",
        "\n",
        "print(type(test_dataset))\n",
        "print(test_dataset.data.shape)"
      ],
      "execution_count": 154,
      "outputs": [
        {
          "output_type": "stream",
          "name": "stdout",
          "text": [
            "<class 'torchvision.datasets.mnist.MNIST'>\n",
            "torch.Size([60000, 28, 28])\n",
            "<class 'torchvision.datasets.mnist.MNIST'>\n",
            "torch.Size([10000, 28, 28])\n"
          ]
        }
      ]
    },
    {
      "cell_type": "code",
      "metadata": {
        "id": "NwAVDkzrO1uB"
      },
      "source": [
        "data_loader = torch.utils.data.DataLoader(train_dataset,\n",
        "                                          100,\n",
        "                                          shuffle = True,\n",
        "                                          drop_last = True)"
      ],
      "execution_count": 155,
      "outputs": []
    },
    {
      "cell_type": "code",
      "metadata": {
        "id": "fyCLkrfTPy1G"
      },
      "source": [
        "# Model\n",
        "class MNIST_Model(nn.Module):\n",
        "  def __init__(self):\n",
        "    super(MNIST_Model, self).__init__()\n",
        "    self.linear1 = nn.Linear(28 * 28, 100)\n",
        "    self.linear2 = nn.Linear(100, 200)\n",
        "    self.linear3 = nn.Linear(200, 100)\n",
        "    self.linear4 = nn.Linear(100, 10)\n",
        "\n",
        "  def forward(self,x):\n",
        "    x = self.linear1(x)\n",
        "    x = F.relu(x)\n",
        "    x = self.linear2(x)\n",
        "    x = F.relu(x)\n",
        "    x = F.relu(self.linear3(x))\n",
        "    y = self.linear4(x)\n",
        "    return y"
      ],
      "execution_count": 156,
      "outputs": []
    },
    {
      "cell_type": "code",
      "metadata": {
        "id": "jcf1SMFQUgmZ"
      },
      "source": [
        "model = MNIST_Model().to(device)"
      ],
      "execution_count": 157,
      "outputs": []
    },
    {
      "cell_type": "code",
      "metadata": {
        "id": "pmscLuNBUj35"
      },
      "source": [
        "criterion = nn.CrossEntropyLoss().to(device)\n",
        "optimizer = optim.Adam(model.parameters(), lr = 0.01)"
      ],
      "execution_count": 158,
      "outputs": []
    },
    {
      "cell_type": "code",
      "metadata": {
        "colab": {
          "base_uri": "https://localhost:8080/"
        },
        "id": "QhDnjgs9U1KP",
        "outputId": "3163838f-8657-4eca-fc19-47b13b31e948"
      },
      "source": [
        "# training\n",
        "total_batch = len(data_loader)\n",
        "print(total_batch)\n",
        "\n",
        "for epoch in range(5):\n",
        "  avg_cost = 0\n",
        "\n",
        "  for X, Y in data_loader:\n",
        "    x = X.view(-1, 28 * 28).to(device)\n",
        "    Y = Y.to(device)\n",
        "\n",
        "    optimizer.zero_grad()\n",
        "    hypothesis = model(x)\n",
        "\n",
        "    cost = criterion(hypothesis, Y)\n",
        "    cost.backward()\n",
        "    optimizer.step()\n",
        "\n",
        "    avg_cost += cost / total_batch\n",
        "\n",
        "  print('[Epoch: {}] cost = {}'.format(epoch, avg_cost))\n",
        "print('Learning Finished')"
      ],
      "execution_count": 159,
      "outputs": [
        {
          "output_type": "stream",
          "name": "stdout",
          "text": [
            "600\n",
            "[Epoch: 0] cost = 0.2768791615962982\n",
            "[Epoch: 1] cost = 0.1523217409849167\n",
            "[Epoch: 2] cost = 0.12281662225723267\n",
            "[Epoch: 3] cost = 0.11585652083158493\n",
            "[Epoch: 4] cost = 0.10565625131130219\n",
            "Learning Finished\n"
          ]
        }
      ]
    }
  ]
}