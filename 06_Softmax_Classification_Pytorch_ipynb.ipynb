{
  "nbformat": 4,
  "nbformat_minor": 0,
  "metadata": {
    "colab": {
      "name": "06_Softmax_Classification_Pytorch.ipynb.ipynb",
      "provenance": [],
      "authorship_tag": "ABX9TyP50PaNhjv+zTuTQEOwOrvx",
      "include_colab_link": true
    },
    "kernelspec": {
      "name": "python3",
      "display_name": "Python 3"
    },
    "language_info": {
      "name": "python"
    },
    "accelerator": "GPU"
  },
  "cells": [
    {
      "cell_type": "markdown",
      "metadata": {
        "id": "view-in-github",
        "colab_type": "text"
      },
      "source": [
        "<a href=\"https://colab.research.google.com/github/ajw1587/Pytorch_Study/blob/main/06_Softmax_Classification_Pytorch_ipynb.ipynb\" target=\"_parent\"><img src=\"https://colab.research.google.com/assets/colab-badge.svg\" alt=\"Open In Colab\"/></a>"
      ]
    },
    {
      "cell_type": "code",
      "metadata": {
        "colab": {
          "base_uri": "https://localhost:8080/"
        },
        "id": "iacMBw_iS0MZ",
        "outputId": "611d9398-a50b-4031-af70-44563df6ff56"
      },
      "source": [
        "!pip install torch\n",
        "!pip install torchvision"
      ],
      "execution_count": 1,
      "outputs": [
        {
          "output_type": "stream",
          "text": [
            "Requirement already satisfied: torch in /usr/local/lib/python3.7/dist-packages (1.9.0+cu102)\n",
            "Requirement already satisfied: typing-extensions in /usr/local/lib/python3.7/dist-packages (from torch) (3.7.4.3)\n",
            "Requirement already satisfied: torchvision in /usr/local/lib/python3.7/dist-packages (0.10.0+cu102)\n",
            "Requirement already satisfied: pillow>=5.3.0 in /usr/local/lib/python3.7/dist-packages (from torchvision) (7.1.2)\n",
            "Requirement already satisfied: numpy in /usr/local/lib/python3.7/dist-packages (from torchvision) (1.19.5)\n",
            "Requirement already satisfied: torch==1.9.0 in /usr/local/lib/python3.7/dist-packages (from torchvision) (1.9.0+cu102)\n",
            "Requirement already satisfied: typing-extensions in /usr/local/lib/python3.7/dist-packages (from torch==1.9.0->torchvision) (3.7.4.3)\n"
          ],
          "name": "stdout"
        }
      ]
    },
    {
      "cell_type": "code",
      "metadata": {
        "colab": {
          "base_uri": "https://localhost:8080/"
        },
        "id": "Hsj2lylelmdq",
        "outputId": "af777a83-dc1d-4690-be71-6c42898c51cd"
      },
      "source": [
        "import torch\n",
        "import torch.nn as nn\n",
        "import torch.nn.functional as F\n",
        "import torch.optim as optim\n",
        "import torchvision\n",
        "\n",
        "torch.manual_seed(1)"
      ],
      "execution_count": 10,
      "outputs": [
        {
          "output_type": "execute_result",
          "data": {
            "text/plain": [
              "<torch._C.Generator at 0x7f9deaaa4310>"
            ]
          },
          "metadata": {
            "tags": []
          },
          "execution_count": 10
        }
      ]
    },
    {
      "cell_type": "code",
      "metadata": {
        "colab": {
          "base_uri": "https://localhost:8080/"
        },
        "id": "8BV5OiL-odxK",
        "outputId": "be4c99b0-1650-4aa2-85c0-4601b7768fbc"
      },
      "source": [
        "z = torch.FloatTensor([1, 2, 3])\n",
        "\n",
        "hypothesis = F.softmax(z, dim = 0)\n",
        "print(hypothesis)\n",
        "hypothesis.sum()"
      ],
      "execution_count": 11,
      "outputs": [
        {
          "output_type": "stream",
          "text": [
            "tensor([0.0900, 0.2447, 0.6652])\n"
          ],
          "name": "stdout"
        },
        {
          "output_type": "execute_result",
          "data": {
            "text/plain": [
              "tensor(1.)"
            ]
          },
          "metadata": {
            "tags": []
          },
          "execution_count": 11
        }
      ]
    },
    {
      "cell_type": "code",
      "metadata": {
        "colab": {
          "base_uri": "https://localhost:8080/"
        },
        "id": "zQe01bgMqigL",
        "outputId": "287ed8cf-2149-475c-f7f9-35984e742690"
      },
      "source": [
        "z = torch.rand(3, 5, requires_grad=True)\n",
        "hypothesis = F.softmax(z, dim=1)\n",
        "print(hypothesis)"
      ],
      "execution_count": 12,
      "outputs": [
        {
          "output_type": "stream",
          "text": [
            "tensor([[0.2645, 0.1639, 0.1855, 0.2585, 0.1277],\n",
            "        [0.2430, 0.1624, 0.2322, 0.1930, 0.1694],\n",
            "        [0.2226, 0.1986, 0.2326, 0.1594, 0.1868]], grad_fn=<SoftmaxBackward>)\n"
          ],
          "name": "stdout"
        }
      ]
    },
    {
      "cell_type": "code",
      "metadata": {
        "colab": {
          "base_uri": "https://localhost:8080/"
        },
        "id": "hitRlG3yrbxA",
        "outputId": "14b05677-04af-4f53-aa0a-c4de99414ecb"
      },
      "source": [
        "y = torch.randint(5, (3,)).long()\n",
        "print(y)"
      ],
      "execution_count": 21,
      "outputs": [
        {
          "output_type": "stream",
          "text": [
            "tensor([0, 0, 4])\n"
          ],
          "name": "stdout"
        }
      ]
    },
    {
      "cell_type": "code",
      "metadata": {
        "colab": {
          "base_uri": "https://localhost:8080/"
        },
        "id": "1s3-V4HnrgZt",
        "outputId": "c95f46aa-09f0-4ba1-c42d-8b90a6e52ce6"
      },
      "source": [
        "y_one_hot = torch.zeros_like(hypothesis)\n",
        "y_one_hot.scatter_(1, y.unsqueeze(1), 1)"
      ],
      "execution_count": 22,
      "outputs": [
        {
          "output_type": "execute_result",
          "data": {
            "text/plain": [
              "tensor([[1., 0., 0., 0., 0.],\n",
              "        [1., 0., 0., 0., 0.],\n",
              "        [0., 0., 0., 0., 1.]])"
            ]
          },
          "metadata": {
            "tags": []
          },
          "execution_count": 22
        }
      ]
    },
    {
      "cell_type": "code",
      "metadata": {
        "colab": {
          "base_uri": "https://localhost:8080/"
        },
        "id": "4IZsHdTetHTJ",
        "outputId": "f6362f62-8756-40a7-ee87-9d3c5e8754b2"
      },
      "source": [
        "cost = (y_one_hot * -torch.log(hypothesis)).sum(dim=1).mean()\n",
        "print(cost)"
      ],
      "execution_count": 24,
      "outputs": [
        {
          "output_type": "stream",
          "text": [
            "tensor(1.4741, grad_fn=<MeanBackward0>)\n"
          ],
          "name": "stdout"
        }
      ]
    },
    {
      "cell_type": "code",
      "metadata": {
        "colab": {
          "base_uri": "https://localhost:8080/"
        },
        "id": "sUfqt7WftYNU",
        "outputId": "5477df9b-8ee6-435a-c736-f2b2c857a5a5"
      },
      "source": [
        "F.nll_loss(F.log_softmax(z, dim=1), y)"
      ],
      "execution_count": 29,
      "outputs": [
        {
          "output_type": "execute_result",
          "data": {
            "text/plain": [
              "tensor(1.4741, grad_fn=<NllLossBackward>)"
            ]
          },
          "metadata": {
            "tags": []
          },
          "execution_count": 29
        }
      ]
    },
    {
      "cell_type": "code",
      "metadata": {
        "colab": {
          "base_uri": "https://localhost:8080/"
        },
        "id": "o8Z9wmuotbFJ",
        "outputId": "9d6135bd-00a6-418a-dfe9-1abf8f2017f8"
      },
      "source": [
        "F.cross_entropy(z, y)"
      ],
      "execution_count": 30,
      "outputs": [
        {
          "output_type": "execute_result",
          "data": {
            "text/plain": [
              "tensor(1.4741, grad_fn=<NllLossBackward>)"
            ]
          },
          "metadata": {
            "tags": []
          },
          "execution_count": 30
        }
      ]
    },
    {
      "cell_type": "code",
      "metadata": {
        "id": "-nHddm38uGTU"
      },
      "source": [
        "x_train = [[1, 2, 1, 1],\n",
        "           [2, 1, 2, 2],\n",
        "           [3, 1, 3, 4],\n",
        "           [4, 1, 5, 5],\n",
        "           [1, 7, 5, 5],\n",
        "           [1, 2, 5, 6],\n",
        "           [1, 6, 6, 6],\n",
        "           [1, 7, 7, 7]]\n",
        "y_train = [2, 2, 2, 1, 1, 1, 0, 0]\n",
        "x_train = torch.FloatTensor(x_train)\n",
        "y_train = torch.LongTensor(y_train)     # 인덱스의 위치이기 때문에 정수"
      ],
      "execution_count": 31,
      "outputs": []
    },
    {
      "cell_type": "code",
      "metadata": {
        "colab": {
          "base_uri": "https://localhost:8080/"
        },
        "id": "iCnu8l4kuh0z",
        "outputId": "72c9269d-1a95-4fe5-fc2b-6e48e6dd63a5"
      },
      "source": [
        "# 모델 초기화\n",
        "w = torch.zeros((4, 3), requires_grad=True)\n",
        "b = torch.zeros(1, requires_grad=True)\n",
        "\n",
        "# optimizer 설정\n",
        "optimizer = optim.SGD([w, b], lr = 0.1)\n",
        "\n",
        "nb_epochs = 1000\n",
        "for epoch in range(nb_epochs + 1):\n",
        "  # Cost 계산\n",
        "  hypothesis = F.softmax(x_train.matmul(w) + b, dim = 1)\n",
        "  y_one_hot = torch.zeros_like(hypothesis)\n",
        "  y_one_hot.scatter_(1, y_train.unsqueeze(1), 1)\n",
        "  cost = (y_one_hot * -torch.log(F.softmax(hypothesis, dim =1))).sum(dim=1).mean()\n",
        "\n",
        "  # Cost로 H(x) 개선\n",
        "  optimizer.zero_grad()\n",
        "  cost.backward()\n",
        "  optimizer.step()\n",
        "\n",
        "  # 100번마다 로그 출력\n",
        "  if epoch % 100 == 0:\n",
        "    print('Epoch {:4d}/{} Cost: {:.6f}'.format(\n",
        "        epoch, nb_epochs, cost.item()\n",
        "    ))"
      ],
      "execution_count": 36,
      "outputs": [
        {
          "output_type": "stream",
          "text": [
            "Epoch    0/1000 Cost: 1.098612\n",
            "Epoch  100/1000 Cost: 0.879320\n",
            "Epoch  200/1000 Cost: 0.805669\n",
            "Epoch  300/1000 Cost: 0.769445\n",
            "Epoch  400/1000 Cost: 0.747767\n",
            "Epoch  500/1000 Cost: 0.733252\n",
            "Epoch  600/1000 Cost: 0.722869\n",
            "Epoch  700/1000 Cost: 0.715099\n",
            "Epoch  800/1000 Cost: 0.709086\n",
            "Epoch  900/1000 Cost: 0.704307\n",
            "Epoch 1000/1000 Cost: 0.700426\n"
          ],
          "name": "stdout"
        }
      ]
    },
    {
      "cell_type": "code",
      "metadata": {
        "colab": {
          "base_uri": "https://localhost:8080/"
        },
        "id": "OhUuK6_QwlVO",
        "outputId": "bfee56a0-b932-48e8-ca07-b180ea74fc34"
      },
      "source": [
        "# 모델 초기화\n",
        "w = torch.zeros((4, 3), requires_grad=True)\n",
        "b = torch.zeros(1, requires_grad=True)\n",
        "\n",
        "# optimizer 설정\n",
        "optimizer = optim.SGD([w, b], lr = 0.1)\n",
        "\n",
        "nb_epochs = 1000\n",
        "for epoch in range(nb_epochs + 1):\n",
        "  # Cost 계산\n",
        "  z = x_train.matmul(w) + b\n",
        "  cost = F.cross_entropy(z, y_train)\n",
        "\n",
        "  # Cost로 H(x) 개선\n",
        "  optimizer.zero_grad()\n",
        "  cost.backward()\n",
        "  optimizer.step()\n",
        "\n",
        "  # 100번마다 로그 출력\n",
        "  if epoch % 100 == 0:\n",
        "    print('Epoch {:4d}/{} Cost: {:.6f}'.format(\n",
        "        epoch, nb_epochs, cost.item()\n",
        "    ))"
      ],
      "execution_count": 37,
      "outputs": [
        {
          "output_type": "stream",
          "text": [
            "Epoch    0/1000 Cost: 1.098612\n",
            "Epoch  100/1000 Cost: 0.705542\n",
            "Epoch  200/1000 Cost: 0.618635\n",
            "Epoch  300/1000 Cost: 0.562743\n",
            "Epoch  400/1000 Cost: 0.518396\n",
            "Epoch  500/1000 Cost: 0.479757\n",
            "Epoch  600/1000 Cost: 0.444251\n",
            "Epoch  700/1000 Cost: 0.410524\n",
            "Epoch  800/1000 Cost: 0.377795\n",
            "Epoch  900/1000 Cost: 0.345596\n",
            "Epoch 1000/1000 Cost: 0.313665\n"
          ],
          "name": "stdout"
        }
      ]
    },
    {
      "cell_type": "code",
      "metadata": {
        "id": "xh3TmUVYw9EC"
      },
      "source": [
        "class SoftmaxClassifierModel(nn.Module):\n",
        "  def __init__(self):\n",
        "    super().__init__()\n",
        "    self.linear = nn.Linear(4, 3)\n",
        "\n",
        "  def forward(self, x):\n",
        "    return self.linear(x)"
      ],
      "execution_count": 38,
      "outputs": []
    },
    {
      "cell_type": "code",
      "metadata": {
        "colab": {
          "base_uri": "https://localhost:8080/"
        },
        "id": "36by7GxDxLU3",
        "outputId": "910d01ea-8e4e-4a81-dfbd-e03835d10d69"
      },
      "source": [
        "model = SoftmaxClassifierModel()\n",
        "\n",
        "# optimizer 설정\n",
        "optimizer = optim.SGD(model.parameters(), lr = 0.1)\n",
        "\n",
        "nb_epochs = 1000\n",
        "for epoch in range(nb_epochs + 1):\n",
        "  # H(x) 계산\n",
        "  prediction = model(x_train)\n",
        "\n",
        "  # Cost 계산\n",
        "  cost = F.cross_entropy(prediction, y_train)\n",
        "\n",
        "  # Cost로 H(x) 개선\n",
        "  optimizer.zero_grad()\n",
        "  cost.backward()\n",
        "  optimizer.step()\n",
        "\n",
        "  # 20번마다 로그 출력\n",
        "  if epoch % 100 == 0:\n",
        "    print('Epoch {:4d}/{} Cost: {:.6f}'.format(\n",
        "        epoch, nb_epochs, cost.item()\n",
        "    ))"
      ],
      "execution_count": 39,
      "outputs": [
        {
          "output_type": "stream",
          "text": [
            "Epoch    0/1000 Cost: 1.950346\n",
            "Epoch  100/1000 Cost: 0.698547\n",
            "Epoch  200/1000 Cost: 0.598680\n",
            "Epoch  300/1000 Cost: 0.536322\n",
            "Epoch  400/1000 Cost: 0.485161\n",
            "Epoch  500/1000 Cost: 0.438642\n",
            "Epoch  600/1000 Cost: 0.394191\n",
            "Epoch  700/1000 Cost: 0.350602\n",
            "Epoch  800/1000 Cost: 0.307334\n",
            "Epoch  900/1000 Cost: 0.264584\n",
            "Epoch 1000/1000 Cost: 0.225920\n"
          ],
          "name": "stdout"
        }
      ]
    }
  ]
}