{
  "nbformat": 4,
  "nbformat_minor": 0,
  "metadata": {
    "colab": {
      "name": "14_BatchNorm_Pytorch.ipynb",
      "provenance": [],
      "authorship_tag": "ABX9TyMObnORLNA3U2w7/pNl8q/A",
      "include_colab_link": true
    },
    "kernelspec": {
      "name": "python3",
      "display_name": "Python 3"
    },
    "language_info": {
      "name": "python"
    },
    "accelerator": "GPU"
  },
  "cells": [
    {
      "cell_type": "markdown",
      "metadata": {
        "id": "view-in-github",
        "colab_type": "text"
      },
      "source": [
        "<a href=\"https://colab.research.google.com/github/ajw1587/Pytorch_Study/blob/main/14_BatchNorm_Pytorch.ipynb\" target=\"_parent\"><img src=\"https://colab.research.google.com/assets/colab-badge.svg\" alt=\"Open In Colab\"/></a>"
      ]
    },
    {
      "cell_type": "code",
      "metadata": {
        "colab": {
          "base_uri": "https://localhost:8080/"
        },
        "id": "L8F0CF5uTGLh",
        "outputId": "284944c0-8fb7-44dd-96a8-e016da53407d"
      },
      "source": [
        "!pip install torch\n",
        "!pip install torchvision"
      ],
      "execution_count": 1,
      "outputs": [
        {
          "output_type": "stream",
          "name": "stdout",
          "text": [
            "Requirement already satisfied: torch in /usr/local/lib/python3.7/dist-packages (1.9.0+cu102)\n",
            "Requirement already satisfied: typing-extensions in /usr/local/lib/python3.7/dist-packages (from torch) (3.7.4.3)\n",
            "Requirement already satisfied: torchvision in /usr/local/lib/python3.7/dist-packages (0.10.0+cu102)\n",
            "Requirement already satisfied: numpy in /usr/local/lib/python3.7/dist-packages (from torchvision) (1.19.5)\n",
            "Requirement already satisfied: torch==1.9.0 in /usr/local/lib/python3.7/dist-packages (from torchvision) (1.9.0+cu102)\n",
            "Requirement already satisfied: pillow>=5.3.0 in /usr/local/lib/python3.7/dist-packages (from torchvision) (7.1.2)\n",
            "Requirement already satisfied: typing-extensions in /usr/local/lib/python3.7/dist-packages (from torch==1.9.0->torchvision) (3.7.4.3)\n"
          ]
        }
      ]
    },
    {
      "cell_type": "code",
      "metadata": {
        "colab": {
          "base_uri": "https://localhost:8080/"
        },
        "id": "QuGNp6fPTJ45",
        "outputId": "c158805b-7597-4178-c236-52f2f5c466ef"
      },
      "source": [
        "import torch\n",
        "import torch.nn as nn\n",
        "import torch.nn.functional as F\n",
        "import torch.optim as optim\n",
        "import torchvision\n",
        "import torchvision.datasets as dsets\n",
        "import torchvision.transforms as transforms\n",
        "\n",
        "device = 'cuda' if torch.cuda.is_available() else 'cpu'\n",
        "dropout_prob = 0.5\n",
        "print(device)"
      ],
      "execution_count": 3,
      "outputs": [
        {
          "output_type": "stream",
          "name": "stdout",
          "text": [
            "cuda\n"
          ]
        }
      ]
    },
    {
      "cell_type": "code",
      "metadata": {
        "colab": {
          "base_uri": "https://localhost:8080/"
        },
        "id": "E3-EhM0eTrXi",
        "outputId": "dbd72422-9d8b-4bb5-97c4-76443721fabd"
      },
      "source": [
        "train_dataset = dsets.MNIST(root = '../data/',\n",
        "                            train = True,\n",
        "                            transform = transforms.ToTensor(),\n",
        "                            download = True)\n",
        "test_dataset = dsets.MNIST(root = '../data/',\n",
        "                           train = False,\n",
        "                           transform = transforms.ToTensor(),\n",
        "                           download = True)\n",
        "\n",
        "print(type(train_dataset))\n",
        "print(train_dataset.data.shape)\n",
        "print(type(test_dataset))\n",
        "print(test_dataset.data.shape)"
      ],
      "execution_count": 5,
      "outputs": [
        {
          "output_type": "stream",
          "name": "stdout",
          "text": [
            "<class 'torchvision.datasets.mnist.MNIST'>\n",
            "torch.Size([60000, 28, 28])\n",
            "<class 'torchvision.datasets.mnist.MNIST'>\n",
            "torch.Size([10000, 28, 28])\n"
          ]
        }
      ]
    },
    {
      "cell_type": "code",
      "metadata": {
        "id": "m_PQtr7kUHNv"
      },
      "source": [
        "data_loader = torch.utils.data.DataLoader(train_dataset,\n",
        "                                          100,\n",
        "                                          shuffle = True,\n",
        "                                          drop_last = True)"
      ],
      "execution_count": 6,
      "outputs": []
    },
    {
      "cell_type": "code",
      "metadata": {
        "id": "MCN1XMUeUYXO"
      },
      "source": [
        "# Model\n",
        "class BN_MNIST_model(nn.Module):\n",
        "  def __init__(self):\n",
        "    super(BN_MNIST_model, self).__init__()\n",
        "    self.linear1 = nn.Linear(28 * 28, 100)\n",
        "    self.linear2 = nn.Linear(100, 200)\n",
        "    self.linear3 = nn.Linear(200, 300)\n",
        "    self.linear4 = nn.Linear(300, 200)\n",
        "    self.linear5 = nn.Linear(200, 100)\n",
        "    self.linear6 = nn.Linear(100, 10)\n",
        "\n",
        "    self.relu = nn.ReLU()\n",
        "    self.dropout = nn.Dropout(dropout_prob)\n",
        "    self.bn1 = nn.BatchNorm1d(100)\n",
        "    self.bn2 = nn.BatchNorm1d(200)\n",
        "    self.bn3 = nn.BatchNorm1d(300)\n",
        "\n",
        "    torch.nn.init.xavier_uniform_(self.linear1.weight)\n",
        "    torch.nn.init.xavier_uniform_(self.linear2.weight)\n",
        "    torch.nn.init.xavier_uniform_(self.linear3.weight)\n",
        "    torch.nn.init.xavier_uniform_(self.linear4.weight)\n",
        "    torch.nn.init.xavier_uniform_(self.linear5.weight)\n",
        "    torch.nn.init.xavier_uniform_(self.linear6.weight)\n",
        "\n",
        "  def forward(self, x):\n",
        "    x = self.linear1(x)\n",
        "    x = self.bn1(x)\n",
        "    x = self.relu(x)\n",
        "    # x = self.relu(self.bn1(linear1(x)))\n",
        "\n",
        "    x = self.linear2(x)\n",
        "    x = self.bn2(x)\n",
        "    x = self.relu(x)\n",
        "\n",
        "    x = self.linear3(x)\n",
        "    x = self.bn3(x)\n",
        "    x = self.relu(x)\n",
        "\n",
        "    x = self.linear4(x)\n",
        "    x = self.bn2(x)\n",
        "    x = self.relu(x)\n",
        "\n",
        "    x = self.linear5(x)\n",
        "    x = self.bn1(x)\n",
        "    x = self.relu(x)\n",
        "\n",
        "    y = self.linear6(x)\n",
        "\n",
        "    return y"
      ],
      "execution_count": 7,
      "outputs": []
    },
    {
      "cell_type": "code",
      "metadata": {
        "id": "MfZxiq1fX4js"
      },
      "source": [
        "model = BN_MNIST_model().to(device)\n",
        "\n",
        "criterion = nn.CrossEntropyLoss().to(device)\n",
        "optimizer = optim.Adam(model.parameters(), lr = 0.01)"
      ],
      "execution_count": 8,
      "outputs": []
    },
    {
      "cell_type": "code",
      "metadata": {
        "colab": {
          "base_uri": "https://localhost:8080/"
        },
        "id": "fNIUIMRHYJZB",
        "outputId": "7a549f07-b8c1-43e7-90d9-7ee9d461e6e7"
      },
      "source": [
        "total_batch = len(data_loader)\n",
        "print(total_batch)"
      ],
      "execution_count": 10,
      "outputs": [
        {
          "output_type": "stream",
          "name": "stdout",
          "text": [
            "600\n"
          ]
        }
      ]
    },
    {
      "cell_type": "code",
      "metadata": {
        "colab": {
          "base_uri": "https://localhost:8080/"
        },
        "id": "hkMdvOhJYQ34",
        "outputId": "e1f0ca8d-f087-4ab0-d526-a7c610a1ed46"
      },
      "source": [
        "for epoch in range(5):\n",
        "  avg_cost = 0\n",
        "\n",
        "  for X, Y in data_loader:\n",
        "    x = X.view(-1, 28 * 28).to(device)\n",
        "    y = Y.to(device)\n",
        "\n",
        "    optimizer.zero_grad()\n",
        "    hypothesis = model(x)\n",
        "\n",
        "    cost = criterion(hypothesis, y)\n",
        "    cost.backward()\n",
        "    optimizer.step()\n",
        "\n",
        "    avg_cost += cost / total_batch\n",
        "\n",
        "  print('[Epoch: {}] cost = {}'.format(epoch, avg_cost))\n",
        "print('Learning Finished')"
      ],
      "execution_count": 11,
      "outputs": [
        {
          "output_type": "stream",
          "name": "stdout",
          "text": [
            "[Epoch: 0] cost = 0.23967187106609344\n",
            "[Epoch: 1] cost = 0.1300143003463745\n",
            "[Epoch: 2] cost = 0.10258571058511734\n",
            "[Epoch: 3] cost = 0.08390405029058456\n",
            "[Epoch: 4] cost = 0.07589790225028992\n",
            "Learning Finished\n"
          ]
        }
      ]
    }
  ]
}