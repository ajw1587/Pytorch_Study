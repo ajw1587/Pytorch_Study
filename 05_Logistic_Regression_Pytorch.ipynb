{
  "nbformat": 4,
  "nbformat_minor": 0,
  "metadata": {
    "colab": {
      "name": "05_Logistic_Regression_Pytorch.ipynb",
      "provenance": [],
      "authorship_tag": "ABX9TyMsPtswoORfI3FQB4Wa8Wzc",
      "include_colab_link": true
    },
    "kernelspec": {
      "name": "python3",
      "display_name": "Python 3"
    },
    "language_info": {
      "name": "python"
    },
    "accelerator": "GPU"
  },
  "cells": [
    {
      "cell_type": "markdown",
      "metadata": {
        "id": "view-in-github",
        "colab_type": "text"
      },
      "source": [
        "<a href=\"https://colab.research.google.com/github/ajw1587/Pytorch_Study/blob/main/05_Logistic_Regression_Pytorch.ipynb\" target=\"_parent\"><img src=\"https://colab.research.google.com/assets/colab-badge.svg\" alt=\"Open In Colab\"/></a>"
      ]
    },
    {
      "cell_type": "code",
      "metadata": {
        "id": "QtWH6p1XopoX",
        "colab": {
          "base_uri": "https://localhost:8080/"
        },
        "outputId": "b62467e2-624f-4f74-b3ef-a1af8563d7e8"
      },
      "source": [
        "!pip install torch\n",
        "!pip install torchvision"
      ],
      "execution_count": 1,
      "outputs": [
        {
          "output_type": "stream",
          "text": [
            "Requirement already satisfied: torch in /usr/local/lib/python3.7/dist-packages (1.9.0+cu102)\n",
            "Requirement already satisfied: typing-extensions in /usr/local/lib/python3.7/dist-packages (from torch) (3.7.4.3)\n",
            "Requirement already satisfied: torchvision in /usr/local/lib/python3.7/dist-packages (0.10.0+cu102)\n",
            "Requirement already satisfied: numpy in /usr/local/lib/python3.7/dist-packages (from torchvision) (1.19.5)\n",
            "Requirement already satisfied: pillow>=5.3.0 in /usr/local/lib/python3.7/dist-packages (from torchvision) (7.1.2)\n",
            "Requirement already satisfied: torch==1.9.0 in /usr/local/lib/python3.7/dist-packages (from torchvision) (1.9.0+cu102)\n",
            "Requirement already satisfied: typing-extensions in /usr/local/lib/python3.7/dist-packages (from torch==1.9.0->torchvision) (3.7.4.3)\n"
          ],
          "name": "stdout"
        }
      ]
    },
    {
      "cell_type": "code",
      "metadata": {
        "colab": {
          "base_uri": "https://localhost:8080/"
        },
        "id": "Eo5jq5uLe0sq",
        "outputId": "76690e08-1aa2-4d8d-e78c-54f58470197f"
      },
      "source": [
        "import torch\n",
        "import torch.nn as nn\n",
        "import torch.nn.functional as F\n",
        "import torch.optim as optim\n",
        "import torchvision\n",
        "\n",
        "torch.manual_seed(1)"
      ],
      "execution_count": 2,
      "outputs": [
        {
          "output_type": "execute_result",
          "data": {
            "text/plain": [
              "<torch._C.Generator at 0x7fe8d4344310>"
            ]
          },
          "metadata": {
            "tags": []
          },
          "execution_count": 2
        }
      ]
    },
    {
      "cell_type": "code",
      "metadata": {
        "colab": {
          "base_uri": "https://localhost:8080/"
        },
        "id": "Jz6iLNszirA5",
        "outputId": "c6f8d372-6c57-41b9-f238-c2a11c57ffe0"
      },
      "source": [
        "x_data = [[1, 2], [2, 3], [3, 1], [4, 3], [5, 3], [6, 2]]\n",
        "y_data = [[0], [0], [0], [1], [1], [1]]\n",
        "\n",
        "x_train = torch.FloatTensor(x_data)\n",
        "y_train = torch.FloatTensor(y_data)\n",
        "\n",
        "print(x_train.shape)\n",
        "print(y_train.shape)"
      ],
      "execution_count": 5,
      "outputs": [
        {
          "output_type": "stream",
          "text": [
            "torch.Size([6, 2])\n",
            "torch.Size([6, 1])\n"
          ],
          "name": "stdout"
        }
      ]
    },
    {
      "cell_type": "code",
      "metadata": {
        "colab": {
          "base_uri": "https://localhost:8080/"
        },
        "id": "CH3tlHN3i-P1",
        "outputId": "17030b1a-d4e4-4d97-f9b0-c2657f80cfb2"
      },
      "source": [
        "print('e^1 equals: ', torch.exp(torch.FloatTensor([1])))"
      ],
      "execution_count": 5,
      "outputs": [
        {
          "output_type": "stream",
          "text": [
            "e^1 equals:  tensor([2.7183])\n"
          ],
          "name": "stdout"
        }
      ]
    },
    {
      "cell_type": "code",
      "metadata": {
        "id": "PYILTBY1k9Qy"
      },
      "source": [
        "w = torch.zeros((2, 1), requires_grad = True)\n",
        "b = torch.zeros(1, requires_grad = True)"
      ],
      "execution_count": 7,
      "outputs": []
    },
    {
      "cell_type": "code",
      "metadata": {
        "colab": {
          "base_uri": "https://localhost:8080/"
        },
        "id": "qbr3cVodlLZb",
        "outputId": "8a0ed634-8159-47a9-f403-2796170b632d"
      },
      "source": [
        "hypothesis_1 = 1 / (1 + torch.exp(-(x_train.matmul(w) + b)))\n",
        "print(hypothesis_1)\n",
        "print(hypothesis_1.shape)"
      ],
      "execution_count": 20,
      "outputs": [
        {
          "output_type": "stream",
          "text": [
            "tensor([[0.5000],\n",
            "        [0.5000],\n",
            "        [0.5000],\n",
            "        [0.5000],\n",
            "        [0.5000],\n",
            "        [0.5000]], grad_fn=<MulBackward0>)\n",
            "torch.Size([6, 1])\n"
          ],
          "name": "stdout"
        }
      ]
    },
    {
      "cell_type": "code",
      "metadata": {
        "colab": {
          "base_uri": "https://localhost:8080/"
        },
        "id": "z7YG_I0umFSr",
        "outputId": "012eb359-b347-4ef4-9b2f-8d59a72b04fd"
      },
      "source": [
        "hypothesis_2 = torch.sigmoid(x_train.matmul(w) + b)\n",
        "print(hypothesis_2)\n",
        "print(hypothesis_2.shape)"
      ],
      "execution_count": 12,
      "outputs": [
        {
          "output_type": "stream",
          "text": [
            "tensor([[0.5000],\n",
            "        [0.5000],\n",
            "        [0.5000],\n",
            "        [0.5000],\n",
            "        [0.5000],\n",
            "        [0.5000]], grad_fn=<SigmoidBackward>)\n",
            "torch.Size([6, 1])\n"
          ],
          "name": "stdout"
        }
      ]
    },
    {
      "cell_type": "code",
      "metadata": {
        "colab": {
          "base_uri": "https://localhost:8080/"
        },
        "id": "XQ5jT4hLm1sf",
        "outputId": "2b61b77d-8e2f-4ed5-c550-6f7ef5dfb24f"
      },
      "source": [
        "losses = -(y_train * torch.log(hypothesis) + \n",
        "           (1 - y_train) * torch.log(1 - hypothesis))\n",
        "print(losses)\n",
        "\n",
        "cost = losses.mean()\n",
        "print(cost)"
      ],
      "execution_count": 18,
      "outputs": [
        {
          "output_type": "stream",
          "text": [
            "tensor([[0.6931],\n",
            "        [0.6931],\n",
            "        [0.6931],\n",
            "        [0.6931],\n",
            "        [0.6931],\n",
            "        [0.6931]], grad_fn=<NegBackward>)\n",
            "tensor(0.6931, grad_fn=<MeanBackward0>)\n"
          ],
          "name": "stdout"
        }
      ]
    },
    {
      "cell_type": "code",
      "metadata": {
        "colab": {
          "base_uri": "https://localhost:8080/"
        },
        "id": "Ywz14NbTnRSM",
        "outputId": "d2ba72e5-0f02-45e1-d310-e13f34cdf828"
      },
      "source": [
        "F.binary_cross_entropy(hypothesis, y_train)"
      ],
      "execution_count": 17,
      "outputs": [
        {
          "output_type": "execute_result",
          "data": {
            "text/plain": [
              "tensor(0.6931, grad_fn=<BinaryCrossEntropyBackward>)"
            ]
          },
          "metadata": {
            "tags": []
          },
          "execution_count": 17
        }
      ]
    },
    {
      "cell_type": "code",
      "metadata": {
        "colab": {
          "base_uri": "https://localhost:8080/"
        },
        "id": "nGubB_SAnlvZ",
        "outputId": "a873501f-99ff-4c02-d977-9bfb9aae4825"
      },
      "source": [
        "# optimizer 설정\n",
        "optimizer = optim.SGD([w, b], lr = 1)\n",
        "\n",
        "nb_epochs = 1000\n",
        "for epoch in range(nb_epochs + 1):\n",
        "  # Cost 계산\n",
        "  hypothesis_3 = torch.sigmoid(x_train.matmul(w) + b)\n",
        "  cost = F.binary_cross_entropy(hypothesis_3, y_train)\n",
        "\n",
        "  # Cost로 H(x) 개선\n",
        "  optimizer.zero_grad()\n",
        "  cost.backward()\n",
        "  optimizer.step()\n",
        "\n",
        "  # 100번마다 로그 출력\n",
        "  if epoch % 100 == 0:\n",
        "    print('Epoch {:4d}/{} Cost: {:.6f}'.format(\n",
        "        epoch, nb_epochs, cost.item()\n",
        "    ))"
      ],
      "execution_count": 28,
      "outputs": [
        {
          "output_type": "stream",
          "text": [
            "Epoch    0/1000 Cost: 0.010295\n",
            "Epoch  100/1000 Cost: 0.009824\n",
            "Epoch  200/1000 Cost: 0.009394\n",
            "Epoch  300/1000 Cost: 0.009001\n",
            "Epoch  400/1000 Cost: 0.008639\n",
            "Epoch  500/1000 Cost: 0.008305\n",
            "Epoch  600/1000 Cost: 0.007996\n",
            "Epoch  700/1000 Cost: 0.007709\n",
            "Epoch  800/1000 Cost: 0.007442\n",
            "Epoch  900/1000 Cost: 0.007193\n",
            "Epoch 1000/1000 Cost: 0.006960\n"
          ],
          "name": "stdout"
        }
      ]
    },
    {
      "cell_type": "code",
      "metadata": {
        "colab": {
          "base_uri": "https://localhost:8080/"
        },
        "id": "A3cCHGRxqrPa",
        "outputId": "1e8b43f9-6ffe-4ee1-b732-cc28f50954c2"
      },
      "source": [
        "# Evaluation\n",
        "# x_test가 맞지만 x_test 데이터가 따로 없어서 x_train을 사용했다.\n",
        "hypothesis = torch.sigmoid(x_train.matmul(w) + b)\n",
        "print(hypothesis[:5])"
      ],
      "execution_count": 29,
      "outputs": [
        {
          "output_type": "stream",
          "text": [
            "tensor([[2.0477e-05],\n",
            "        [1.1474e-02],\n",
            "        [1.3604e-02],\n",
            "        [9.8389e-01],\n",
            "        [9.9977e-01]], grad_fn=<SliceBackward>)\n"
          ],
          "name": "stdout"
        }
      ]
    },
    {
      "cell_type": "code",
      "metadata": {
        "colab": {
          "base_uri": "https://localhost:8080/"
        },
        "id": "M8pztfD5r-YV",
        "outputId": "a6f4d503-104e-4bd7-958b-9e6e855a4071"
      },
      "source": [
        "prediction = hypothesis >= torch.FloatTensor([0.5])\n",
        "print(prediction[:5])"
      ],
      "execution_count": 30,
      "outputs": [
        {
          "output_type": "stream",
          "text": [
            "tensor([[False],\n",
            "        [False],\n",
            "        [False],\n",
            "        [ True],\n",
            "        [ True]])\n"
          ],
          "name": "stdout"
        }
      ]
    },
    {
      "cell_type": "code",
      "metadata": {
        "colab": {
          "base_uri": "https://localhost:8080/"
        },
        "id": "BOHZzO8OsHMF",
        "outputId": "88a2007e-56b0-43e5-d9bb-cc2a5b8dfb1b"
      },
      "source": [
        "correct_prediction = prediction.float() == y_train\n",
        "print(correct_prediction[:5])"
      ],
      "execution_count": 31,
      "outputs": [
        {
          "output_type": "stream",
          "text": [
            "tensor([[True],\n",
            "        [True],\n",
            "        [True],\n",
            "        [True],\n",
            "        [True]])\n"
          ],
          "name": "stdout"
        }
      ]
    },
    {
      "cell_type": "code",
      "metadata": {
        "id": "LTOthLuZ2x4m"
      },
      "source": [
        "# 실제로 사용할때!\n",
        "class BinaryClassifier(nn.Module):\n",
        "  def __init__(self):\n",
        "    super().__init__()\n",
        "    self.linear = nn.Linear(2, 1)\n",
        "    self.sigmoid = nn.Sigmoid()\n",
        "\n",
        "  def forward(self, x):\n",
        "    return self.sigmoid(self.linear(x))\n",
        "\n",
        "model = BinaryClassifier()"
      ],
      "execution_count": 9,
      "outputs": []
    },
    {
      "cell_type": "code",
      "metadata": {
        "colab": {
          "base_uri": "https://localhost:8080/"
        },
        "id": "xK5mx2xd3ZqX",
        "outputId": "26a0c037-4608-4e8d-9cf8-e1a74cf098b0"
      },
      "source": [
        "# optimizer 설정\n",
        "optimizer = optim.SGD(model.parameters(), lr = 1)\n",
        "\n",
        "nb_epochs = 100\n",
        "for epoch in range(nb_epochs + 1):\n",
        "  # H(x) 계산\n",
        "  hypothesis = model(x_train)\n",
        "\n",
        "  # Cost 계산\n",
        "  cost = F.binary_cross_entropy(hypothesis, y_train)\n",
        "\n",
        "  # cost로 H(x) 계산\n",
        "  optimizer.zero_grad()\n",
        "  cost.backward()\n",
        "  optimizer.step()\n",
        "\n",
        "  # 10번마다 로그 출력\n",
        "  if epoch % 10 == 0:\n",
        "    prediction = hypothesis >= torch.FloatTensor([0.5])\n",
        "    correct_prediction = prediction.float() == y_train\n",
        "    accuracy = correct_prediction.sum().item() / len(correct_prediction)\n",
        "    print('Epoch {:4d}/{} Cost: {:.6f} Accuracy {:2.2f}%'.format(\n",
        "        epoch, nb_epochs, cost.item(), accuracy*100\n",
        "    ))"
      ],
      "execution_count": 12,
      "outputs": [
        {
          "output_type": "stream",
          "text": [
            "Epoch    0/100 Cost: 0.138461 Accuracy 100.00%\n",
            "Epoch   10/100 Cost: 0.129423 Accuracy 100.00%\n",
            "Epoch   20/100 Cost: 0.121517 Accuracy 100.00%\n",
            "Epoch   30/100 Cost: 0.114537 Accuracy 100.00%\n",
            "Epoch   40/100 Cost: 0.108331 Accuracy 100.00%\n",
            "Epoch   50/100 Cost: 0.102777 Accuracy 100.00%\n",
            "Epoch   60/100 Cost: 0.097778 Accuracy 100.00%\n",
            "Epoch   70/100 Cost: 0.093253 Accuracy 100.00%\n",
            "Epoch   80/100 Cost: 0.089138 Accuracy 100.00%\n",
            "Epoch   90/100 Cost: 0.085380 Accuracy 100.00%\n",
            "Epoch  100/100 Cost: 0.081933 Accuracy 100.00%\n"
          ],
          "name": "stdout"
        }
      ]
    }
  ]
}